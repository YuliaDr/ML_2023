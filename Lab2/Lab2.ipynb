{
 "cells": [
  {
   "cell_type": "markdown",
   "id": "3e1d2f2b",
   "metadata": {},
   "source": [
    "## Обработка пропусков в данных, кодирование категориальных признаков, масштабирование данных."
   ]
  },
  {
   "cell_type": "code",
   "execution_count": 1,
   "id": "6a8c51a7",
   "metadata": {},
   "outputs": [],
   "source": [
    "import numpy as np\n",
    "import pandas as pd\n",
    "import seaborn as sns\n",
    "import matplotlib.pyplot as plt\n",
    "%matplotlib inline \n",
    "sns.set(style=\"ticks\")"
   ]
  },
  {
   "cell_type": "markdown",
   "id": "e7c362a0",
   "metadata": {},
   "source": [
    "### Загрузка и первичный анализ данных\n",
    "Используем [набор данных падения метеоритов](https://www.kaggle.com/datasets/ulrikthygepedersen/meteorite-landings). "
   ]
  },
  {
   "cell_type": "code",
   "execution_count": 2,
   "id": "9362496c",
   "metadata": {},
   "outputs": [],
   "source": [
    "data = pd.read_csv('meteorite.csv', sep=\",\")"
   ]
  },
  {
   "cell_type": "code",
   "execution_count": 3,
   "id": "84c65933",
   "metadata": {},
   "outputs": [
    {
     "data": {
      "text/plain": [
       "(1199, 10)"
      ]
     },
     "execution_count": 3,
     "metadata": {},
     "output_type": "execute_result"
    }
   ],
   "source": [
    "# размер набора данных\n",
    "data.shape"
   ]
  },
  {
   "cell_type": "code",
   "execution_count": 4,
   "id": "12865353",
   "metadata": {},
   "outputs": [
    {
     "data": {
      "text/plain": [
       "name            object\n",
       "id               int64\n",
       "nametype        object\n",
       "recclass        object\n",
       "mass (g)       float64\n",
       "fall            object\n",
       "year           float64\n",
       "reclat         float64\n",
       "reclong        float64\n",
       "GeoLocation     object\n",
       "dtype: object"
      ]
     },
     "execution_count": 4,
     "metadata": {},
     "output_type": "execute_result"
    }
   ],
   "source": [
    "# типы колонок\n",
    "data.dtypes"
   ]
  },
  {
   "cell_type": "code",
   "execution_count": 5,
   "id": "15d7b3b2",
   "metadata": {},
   "outputs": [
    {
     "data": {
      "text/plain": [
       "name            0\n",
       "id              0\n",
       "nametype        0\n",
       "recclass       14\n",
       "mass (g)       32\n",
       "fall            0\n",
       "year            1\n",
       "reclat         15\n",
       "reclong        15\n",
       "GeoLocation    15\n",
       "dtype: int64"
      ]
     },
     "execution_count": 5,
     "metadata": {},
     "output_type": "execute_result"
    }
   ],
   "source": [
    "# проверим есть ли пропущенные значения\n",
    "data.isnull().sum()"
   ]
  },
  {
   "cell_type": "code",
   "execution_count": 6,
   "id": "106a82b7",
   "metadata": {},
   "outputs": [
    {
     "data": {
      "text/html": [
       "<div>\n",
       "<style scoped>\n",
       "    .dataframe tbody tr th:only-of-type {\n",
       "        vertical-align: middle;\n",
       "    }\n",
       "\n",
       "    .dataframe tbody tr th {\n",
       "        vertical-align: top;\n",
       "    }\n",
       "\n",
       "    .dataframe thead th {\n",
       "        text-align: right;\n",
       "    }\n",
       "</style>\n",
       "<table border=\"1\" class=\"dataframe\">\n",
       "  <thead>\n",
       "    <tr style=\"text-align: right;\">\n",
       "      <th></th>\n",
       "      <th>name</th>\n",
       "      <th>id</th>\n",
       "      <th>nametype</th>\n",
       "      <th>recclass</th>\n",
       "      <th>mass (g)</th>\n",
       "      <th>fall</th>\n",
       "      <th>year</th>\n",
       "      <th>reclat</th>\n",
       "      <th>reclong</th>\n",
       "      <th>GeoLocation</th>\n",
       "    </tr>\n",
       "  </thead>\n",
       "  <tbody>\n",
       "    <tr>\n",
       "      <th>0</th>\n",
       "      <td>Aachen</td>\n",
       "      <td>1</td>\n",
       "      <td>Valid</td>\n",
       "      <td>L5</td>\n",
       "      <td>21.0</td>\n",
       "      <td>Fell</td>\n",
       "      <td>1880.0</td>\n",
       "      <td>50.77500</td>\n",
       "      <td>6.08333</td>\n",
       "      <td>(50.775, 6.08333)</td>\n",
       "    </tr>\n",
       "    <tr>\n",
       "      <th>1</th>\n",
       "      <td>Aarhus</td>\n",
       "      <td>2</td>\n",
       "      <td>Valid</td>\n",
       "      <td>H6</td>\n",
       "      <td>720.0</td>\n",
       "      <td>Fell</td>\n",
       "      <td>1951.0</td>\n",
       "      <td>56.18333</td>\n",
       "      <td>10.23333</td>\n",
       "      <td>(56.18333, 10.23333)</td>\n",
       "    </tr>\n",
       "    <tr>\n",
       "      <th>2</th>\n",
       "      <td>Abee</td>\n",
       "      <td>6</td>\n",
       "      <td>Valid</td>\n",
       "      <td>EH4</td>\n",
       "      <td>107000.0</td>\n",
       "      <td>Fell</td>\n",
       "      <td>1952.0</td>\n",
       "      <td>54.21667</td>\n",
       "      <td>-113.00000</td>\n",
       "      <td>(54.21667, -113.0)</td>\n",
       "    </tr>\n",
       "    <tr>\n",
       "      <th>3</th>\n",
       "      <td>Acapulco</td>\n",
       "      <td>10</td>\n",
       "      <td>Valid</td>\n",
       "      <td>Acapulcoite</td>\n",
       "      <td>1914.0</td>\n",
       "      <td>Fell</td>\n",
       "      <td>1976.0</td>\n",
       "      <td>16.88333</td>\n",
       "      <td>-99.90000</td>\n",
       "      <td>(16.88333, -99.9)</td>\n",
       "    </tr>\n",
       "    <tr>\n",
       "      <th>4</th>\n",
       "      <td>Achiras</td>\n",
       "      <td>370</td>\n",
       "      <td>Valid</td>\n",
       "      <td>L6</td>\n",
       "      <td>780.0</td>\n",
       "      <td>Fell</td>\n",
       "      <td>1902.0</td>\n",
       "      <td>-33.16667</td>\n",
       "      <td>-64.95000</td>\n",
       "      <td>(-33.16667, -64.95)</td>\n",
       "    </tr>\n",
       "  </tbody>\n",
       "</table>\n",
       "</div>"
      ],
      "text/plain": [
       "       name   id nametype     recclass  mass (g)  fall    year    reclat  \\\n",
       "0    Aachen    1    Valid           L5      21.0  Fell  1880.0  50.77500   \n",
       "1    Aarhus    2    Valid           H6     720.0  Fell  1951.0  56.18333   \n",
       "2      Abee    6    Valid          EH4  107000.0  Fell  1952.0  54.21667   \n",
       "3  Acapulco   10    Valid  Acapulcoite    1914.0  Fell  1976.0  16.88333   \n",
       "4   Achiras  370    Valid           L6     780.0  Fell  1902.0 -33.16667   \n",
       "\n",
       "     reclong           GeoLocation  \n",
       "0    6.08333     (50.775, 6.08333)  \n",
       "1   10.23333  (56.18333, 10.23333)  \n",
       "2 -113.00000    (54.21667, -113.0)  \n",
       "3  -99.90000     (16.88333, -99.9)  \n",
       "4  -64.95000   (-33.16667, -64.95)  "
      ]
     },
     "execution_count": 6,
     "metadata": {},
     "output_type": "execute_result"
    }
   ],
   "source": [
    "# Первые 5 строк датасета\n",
    "data.head()"
   ]
  },
  {
   "cell_type": "code",
   "execution_count": 7,
   "id": "dea67b3a",
   "metadata": {},
   "outputs": [
    {
     "name": "stdout",
     "output_type": "stream",
     "text": [
      "Всего строк: 1199\n"
     ]
    }
   ],
   "source": [
    "total_count = data.shape[0]\n",
    "print('Всего строк: {}'.format(total_count))"
   ]
  },
  {
   "cell_type": "markdown",
   "id": "3a3c45a4",
   "metadata": {},
   "source": [
    "## Обработка пропусков в данных"
   ]
  },
  {
   "cell_type": "markdown",
   "id": "665ea05e",
   "metadata": {},
   "source": [
    "### Простые стратегии - удаление или заполнение нулями\n",
    "Удаление колонок, содержащих пустые значения res = data.dropna(axis=1, how='any')\n",
    "  \n",
    "Удаление строк, содержащих пустые значения res = data.dropna(axis=0, how='any')\n",
    "  \n",
    "**Удаление может производиться для группы строк или колонок.**"
   ]
  },
  {
   "cell_type": "code",
   "execution_count": 8,
   "id": "5b0cc324",
   "metadata": {},
   "outputs": [
    {
     "data": {
      "text/plain": [
       "((1199, 10), (1199, 4))"
      ]
     },
     "execution_count": 8,
     "metadata": {},
     "output_type": "execute_result"
    }
   ],
   "source": [
    "# Удаление колонок, содержащих пустые значения\n",
    "data_new_1 = data.dropna(axis=1, how='any')\n",
    "(data.shape, data_new_1.shape)"
   ]
  },
  {
   "cell_type": "code",
   "execution_count": 9,
   "id": "6484ad38",
   "metadata": {},
   "outputs": [
    {
     "data": {
      "text/plain": [
       "((1199, 10), (1137, 10))"
      ]
     },
     "execution_count": 9,
     "metadata": {},
     "output_type": "execute_result"
    }
   ],
   "source": [
    "# Удаление строк, содержащих пустые значения\n",
    "data_new_2 = data.dropna(axis=0, how='any')\n",
    "(data.shape, data_new_2.shape)"
   ]
  },
  {
   "cell_type": "code",
   "execution_count": 10,
   "id": "6b582426",
   "metadata": {},
   "outputs": [
    {
     "data": {
      "text/html": [
       "<div>\n",
       "<style scoped>\n",
       "    .dataframe tbody tr th:only-of-type {\n",
       "        vertical-align: middle;\n",
       "    }\n",
       "\n",
       "    .dataframe tbody tr th {\n",
       "        vertical-align: top;\n",
       "    }\n",
       "\n",
       "    .dataframe thead th {\n",
       "        text-align: right;\n",
       "    }\n",
       "</style>\n",
       "<table border=\"1\" class=\"dataframe\">\n",
       "  <thead>\n",
       "    <tr style=\"text-align: right;\">\n",
       "      <th></th>\n",
       "      <th>name</th>\n",
       "      <th>id</th>\n",
       "      <th>nametype</th>\n",
       "      <th>recclass</th>\n",
       "      <th>mass (g)</th>\n",
       "      <th>fall</th>\n",
       "      <th>year</th>\n",
       "      <th>reclat</th>\n",
       "      <th>reclong</th>\n",
       "      <th>GeoLocation</th>\n",
       "    </tr>\n",
       "  </thead>\n",
       "  <tbody>\n",
       "    <tr>\n",
       "      <th>12</th>\n",
       "      <td>Aire-sur-la-Lys</td>\n",
       "      <td>425</td>\n",
       "      <td>Valid</td>\n",
       "      <td>Unknown</td>\n",
       "      <td>NaN</td>\n",
       "      <td>Fell</td>\n",
       "      <td>1769.0</td>\n",
       "      <td>50.66667</td>\n",
       "      <td>2.33333</td>\n",
       "      <td>(50.66667, 2.33333)</td>\n",
       "    </tr>\n",
       "    <tr>\n",
       "      <th>13</th>\n",
       "      <td>Akaba</td>\n",
       "      <td>426</td>\n",
       "      <td>Valid</td>\n",
       "      <td>NaN</td>\n",
       "      <td>779.0</td>\n",
       "      <td>Fell</td>\n",
       "      <td>1949.0</td>\n",
       "      <td>29.51667</td>\n",
       "      <td>35.05000</td>\n",
       "      <td>(29.51667, 35.05)</td>\n",
       "    </tr>\n",
       "    <tr>\n",
       "      <th>27</th>\n",
       "      <td>Alfianello</td>\n",
       "      <td>466</td>\n",
       "      <td>Valid</td>\n",
       "      <td>NaN</td>\n",
       "      <td>228000.0</td>\n",
       "      <td>Fell</td>\n",
       "      <td>1883.0</td>\n",
       "      <td>45.26667</td>\n",
       "      <td>10.15000</td>\n",
       "      <td>(45.26667, 10.15)</td>\n",
       "    </tr>\n",
       "    <tr>\n",
       "      <th>37</th>\n",
       "      <td>Northwest Africa 5815</td>\n",
       "      <td>50693</td>\n",
       "      <td>Valid</td>\n",
       "      <td>L5</td>\n",
       "      <td>256.8</td>\n",
       "      <td>Found</td>\n",
       "      <td>NaN</td>\n",
       "      <td>0.00000</td>\n",
       "      <td>0.00000</td>\n",
       "      <td>(0.0, 0.0)</td>\n",
       "    </tr>\n",
       "    <tr>\n",
       "      <th>38</th>\n",
       "      <td>Angers</td>\n",
       "      <td>2301</td>\n",
       "      <td>Valid</td>\n",
       "      <td>L6</td>\n",
       "      <td>NaN</td>\n",
       "      <td>Fell</td>\n",
       "      <td>1822.0</td>\n",
       "      <td>47.46667</td>\n",
       "      <td>-0.55000</td>\n",
       "      <td>(47.46667, -0.55)</td>\n",
       "    </tr>\n",
       "    <tr>\n",
       "      <th>...</th>\n",
       "      <td>...</td>\n",
       "      <td>...</td>\n",
       "      <td>...</td>\n",
       "      <td>...</td>\n",
       "      <td>...</td>\n",
       "      <td>...</td>\n",
       "      <td>...</td>\n",
       "      <td>...</td>\n",
       "      <td>...</td>\n",
       "      <td>...</td>\n",
       "    </tr>\n",
       "    <tr>\n",
       "      <th>1043</th>\n",
       "      <td>Valdinoce</td>\n",
       "      <td>24146</td>\n",
       "      <td>Valid</td>\n",
       "      <td>Stone-uncl</td>\n",
       "      <td>NaN</td>\n",
       "      <td>Fell</td>\n",
       "      <td>1495.0</td>\n",
       "      <td>44.06667</td>\n",
       "      <td>12.10000</td>\n",
       "      <td>(44.06667, 12.1)</td>\n",
       "    </tr>\n",
       "    <tr>\n",
       "      <th>1054</th>\n",
       "      <td>Villarrica</td>\n",
       "      <td>24181</td>\n",
       "      <td>Valid</td>\n",
       "      <td>Stone-uncl</td>\n",
       "      <td>NaN</td>\n",
       "      <td>Fell</td>\n",
       "      <td>1925.0</td>\n",
       "      <td>-25.83333</td>\n",
       "      <td>-56.50000</td>\n",
       "      <td>(-25.83333, -56.5)</td>\n",
       "    </tr>\n",
       "    <tr>\n",
       "      <th>1079</th>\n",
       "      <td>Wuzhi</td>\n",
       "      <td>24342</td>\n",
       "      <td>Valid</td>\n",
       "      <td>Stone-uncl</td>\n",
       "      <td>NaN</td>\n",
       "      <td>Fell</td>\n",
       "      <td>1931.0</td>\n",
       "      <td>35.13333</td>\n",
       "      <td>113.33333</td>\n",
       "      <td>(35.13333, 113.33333)</td>\n",
       "    </tr>\n",
       "    <tr>\n",
       "      <th>1150</th>\n",
       "      <td>Adelaide</td>\n",
       "      <td>377</td>\n",
       "      <td>Valid</td>\n",
       "      <td>C2-ung</td>\n",
       "      <td>2031.0</td>\n",
       "      <td>Found</td>\n",
       "      <td>1972.0</td>\n",
       "      <td>NaN</td>\n",
       "      <td>NaN</td>\n",
       "      <td>NaN</td>\n",
       "    </tr>\n",
       "    <tr>\n",
       "      <th>1198</th>\n",
       "      <td>Allan Hills 03541</td>\n",
       "      <td>35731</td>\n",
       "      <td>Valid</td>\n",
       "      <td>H5</td>\n",
       "      <td>1053.5</td>\n",
       "      <td>Found</td>\n",
       "      <td>2003.0</td>\n",
       "      <td>NaN</td>\n",
       "      <td>NaN</td>\n",
       "      <td>NaN</td>\n",
       "    </tr>\n",
       "  </tbody>\n",
       "</table>\n",
       "<p>62 rows × 10 columns</p>\n",
       "</div>"
      ],
      "text/plain": [
       "                       name     id nametype    recclass  mass (g)   fall  \\\n",
       "12          Aire-sur-la-Lys    425    Valid     Unknown       NaN   Fell   \n",
       "13                    Akaba    426    Valid         NaN     779.0   Fell   \n",
       "27               Alfianello    466    Valid         NaN  228000.0   Fell   \n",
       "37    Northwest Africa 5815  50693    Valid          L5     256.8  Found   \n",
       "38                   Angers   2301    Valid          L6       NaN   Fell   \n",
       "...                     ...    ...      ...         ...       ...    ...   \n",
       "1043              Valdinoce  24146    Valid  Stone-uncl       NaN   Fell   \n",
       "1054             Villarrica  24181    Valid  Stone-uncl       NaN   Fell   \n",
       "1079                  Wuzhi  24342    Valid  Stone-uncl       NaN   Fell   \n",
       "1150               Adelaide    377    Valid      C2-ung    2031.0  Found   \n",
       "1198      Allan Hills 03541  35731    Valid          H5    1053.5  Found   \n",
       "\n",
       "        year    reclat    reclong            GeoLocation  \n",
       "12    1769.0  50.66667    2.33333    (50.66667, 2.33333)  \n",
       "13    1949.0  29.51667   35.05000      (29.51667, 35.05)  \n",
       "27    1883.0  45.26667   10.15000      (45.26667, 10.15)  \n",
       "37       NaN   0.00000    0.00000             (0.0, 0.0)  \n",
       "38    1822.0  47.46667   -0.55000      (47.46667, -0.55)  \n",
       "...      ...       ...        ...                    ...  \n",
       "1043  1495.0  44.06667   12.10000       (44.06667, 12.1)  \n",
       "1054  1925.0 -25.83333  -56.50000     (-25.83333, -56.5)  \n",
       "1079  1931.0  35.13333  113.33333  (35.13333, 113.33333)  \n",
       "1150  1972.0       NaN        NaN                    NaN  \n",
       "1198  2003.0       NaN        NaN                    NaN  \n",
       "\n",
       "[62 rows x 10 columns]"
      ]
     },
     "execution_count": 10,
     "metadata": {},
     "output_type": "execute_result"
    }
   ],
   "source": [
    "data[data.isnull().any(axis=1)]"
   ]
  },
  {
   "cell_type": "code",
   "execution_count": 11,
   "id": "c24ac20d",
   "metadata": {},
   "outputs": [
    {
     "data": {
      "text/html": [
       "<div>\n",
       "<style scoped>\n",
       "    .dataframe tbody tr th:only-of-type {\n",
       "        vertical-align: middle;\n",
       "    }\n",
       "\n",
       "    .dataframe tbody tr th {\n",
       "        vertical-align: top;\n",
       "    }\n",
       "\n",
       "    .dataframe thead th {\n",
       "        text-align: right;\n",
       "    }\n",
       "</style>\n",
       "<table border=\"1\" class=\"dataframe\">\n",
       "  <thead>\n",
       "    <tr style=\"text-align: right;\">\n",
       "      <th></th>\n",
       "      <th>name</th>\n",
       "      <th>id</th>\n",
       "      <th>nametype</th>\n",
       "      <th>recclass</th>\n",
       "      <th>mass (g)</th>\n",
       "      <th>fall</th>\n",
       "      <th>year</th>\n",
       "      <th>reclat</th>\n",
       "      <th>reclong</th>\n",
       "      <th>GeoLocation</th>\n",
       "    </tr>\n",
       "  </thead>\n",
       "  <tbody>\n",
       "    <tr>\n",
       "      <th>12</th>\n",
       "      <td>Aire-sur-la-Lys</td>\n",
       "      <td>425</td>\n",
       "      <td>Valid</td>\n",
       "      <td>Unknown</td>\n",
       "      <td>0.0</td>\n",
       "      <td>Fell</td>\n",
       "      <td>1769.0</td>\n",
       "      <td>50.66667</td>\n",
       "      <td>2.33333</td>\n",
       "      <td>(50.66667, 2.33333)</td>\n",
       "    </tr>\n",
       "    <tr>\n",
       "      <th>13</th>\n",
       "      <td>Akaba</td>\n",
       "      <td>426</td>\n",
       "      <td>Valid</td>\n",
       "      <td>0</td>\n",
       "      <td>779.0</td>\n",
       "      <td>Fell</td>\n",
       "      <td>1949.0</td>\n",
       "      <td>29.51667</td>\n",
       "      <td>35.05000</td>\n",
       "      <td>(29.51667, 35.05)</td>\n",
       "    </tr>\n",
       "    <tr>\n",
       "      <th>27</th>\n",
       "      <td>Alfianello</td>\n",
       "      <td>466</td>\n",
       "      <td>Valid</td>\n",
       "      <td>0</td>\n",
       "      <td>228000.0</td>\n",
       "      <td>Fell</td>\n",
       "      <td>1883.0</td>\n",
       "      <td>45.26667</td>\n",
       "      <td>10.15000</td>\n",
       "      <td>(45.26667, 10.15)</td>\n",
       "    </tr>\n",
       "    <tr>\n",
       "      <th>37</th>\n",
       "      <td>Northwest Africa 5815</td>\n",
       "      <td>50693</td>\n",
       "      <td>Valid</td>\n",
       "      <td>L5</td>\n",
       "      <td>256.8</td>\n",
       "      <td>Found</td>\n",
       "      <td>0.0</td>\n",
       "      <td>0.00000</td>\n",
       "      <td>0.00000</td>\n",
       "      <td>(0.0, 0.0)</td>\n",
       "    </tr>\n",
       "    <tr>\n",
       "      <th>38</th>\n",
       "      <td>Angers</td>\n",
       "      <td>2301</td>\n",
       "      <td>Valid</td>\n",
       "      <td>L6</td>\n",
       "      <td>0.0</td>\n",
       "      <td>Fell</td>\n",
       "      <td>1822.0</td>\n",
       "      <td>47.46667</td>\n",
       "      <td>-0.55000</td>\n",
       "      <td>(47.46667, -0.55)</td>\n",
       "    </tr>\n",
       "    <tr>\n",
       "      <th>...</th>\n",
       "      <td>...</td>\n",
       "      <td>...</td>\n",
       "      <td>...</td>\n",
       "      <td>...</td>\n",
       "      <td>...</td>\n",
       "      <td>...</td>\n",
       "      <td>...</td>\n",
       "      <td>...</td>\n",
       "      <td>...</td>\n",
       "      <td>...</td>\n",
       "    </tr>\n",
       "    <tr>\n",
       "      <th>1043</th>\n",
       "      <td>Valdinoce</td>\n",
       "      <td>24146</td>\n",
       "      <td>Valid</td>\n",
       "      <td>Stone-uncl</td>\n",
       "      <td>0.0</td>\n",
       "      <td>Fell</td>\n",
       "      <td>1495.0</td>\n",
       "      <td>44.06667</td>\n",
       "      <td>12.10000</td>\n",
       "      <td>(44.06667, 12.1)</td>\n",
       "    </tr>\n",
       "    <tr>\n",
       "      <th>1054</th>\n",
       "      <td>Villarrica</td>\n",
       "      <td>24181</td>\n",
       "      <td>Valid</td>\n",
       "      <td>Stone-uncl</td>\n",
       "      <td>0.0</td>\n",
       "      <td>Fell</td>\n",
       "      <td>1925.0</td>\n",
       "      <td>-25.83333</td>\n",
       "      <td>-56.50000</td>\n",
       "      <td>(-25.83333, -56.5)</td>\n",
       "    </tr>\n",
       "    <tr>\n",
       "      <th>1079</th>\n",
       "      <td>Wuzhi</td>\n",
       "      <td>24342</td>\n",
       "      <td>Valid</td>\n",
       "      <td>Stone-uncl</td>\n",
       "      <td>0.0</td>\n",
       "      <td>Fell</td>\n",
       "      <td>1931.0</td>\n",
       "      <td>35.13333</td>\n",
       "      <td>113.33333</td>\n",
       "      <td>(35.13333, 113.33333)</td>\n",
       "    </tr>\n",
       "    <tr>\n",
       "      <th>1150</th>\n",
       "      <td>Adelaide</td>\n",
       "      <td>377</td>\n",
       "      <td>Valid</td>\n",
       "      <td>C2-ung</td>\n",
       "      <td>2031.0</td>\n",
       "      <td>Found</td>\n",
       "      <td>1972.0</td>\n",
       "      <td>0.00000</td>\n",
       "      <td>0.00000</td>\n",
       "      <td>0</td>\n",
       "    </tr>\n",
       "    <tr>\n",
       "      <th>1198</th>\n",
       "      <td>Allan Hills 03541</td>\n",
       "      <td>35731</td>\n",
       "      <td>Valid</td>\n",
       "      <td>H5</td>\n",
       "      <td>1053.5</td>\n",
       "      <td>Found</td>\n",
       "      <td>2003.0</td>\n",
       "      <td>0.00000</td>\n",
       "      <td>0.00000</td>\n",
       "      <td>0</td>\n",
       "    </tr>\n",
       "  </tbody>\n",
       "</table>\n",
       "<p>62 rows × 10 columns</p>\n",
       "</div>"
      ],
      "text/plain": [
       "                       name     id nametype    recclass  mass (g)   fall  \\\n",
       "12          Aire-sur-la-Lys    425    Valid     Unknown       0.0   Fell   \n",
       "13                    Akaba    426    Valid           0     779.0   Fell   \n",
       "27               Alfianello    466    Valid           0  228000.0   Fell   \n",
       "37    Northwest Africa 5815  50693    Valid          L5     256.8  Found   \n",
       "38                   Angers   2301    Valid          L6       0.0   Fell   \n",
       "...                     ...    ...      ...         ...       ...    ...   \n",
       "1043              Valdinoce  24146    Valid  Stone-uncl       0.0   Fell   \n",
       "1054             Villarrica  24181    Valid  Stone-uncl       0.0   Fell   \n",
       "1079                  Wuzhi  24342    Valid  Stone-uncl       0.0   Fell   \n",
       "1150               Adelaide    377    Valid      C2-ung    2031.0  Found   \n",
       "1198      Allan Hills 03541  35731    Valid          H5    1053.5  Found   \n",
       "\n",
       "        year    reclat    reclong            GeoLocation  \n",
       "12    1769.0  50.66667    2.33333    (50.66667, 2.33333)  \n",
       "13    1949.0  29.51667   35.05000      (29.51667, 35.05)  \n",
       "27    1883.0  45.26667   10.15000      (45.26667, 10.15)  \n",
       "37       0.0   0.00000    0.00000             (0.0, 0.0)  \n",
       "38    1822.0  47.46667   -0.55000      (47.46667, -0.55)  \n",
       "...      ...       ...        ...                    ...  \n",
       "1043  1495.0  44.06667   12.10000       (44.06667, 12.1)  \n",
       "1054  1925.0 -25.83333  -56.50000     (-25.83333, -56.5)  \n",
       "1079  1931.0  35.13333  113.33333  (35.13333, 113.33333)  \n",
       "1150  1972.0   0.00000    0.00000                      0  \n",
       "1198  2003.0   0.00000    0.00000                      0  \n",
       "\n",
       "[62 rows x 10 columns]"
      ]
     },
     "execution_count": 11,
     "metadata": {},
     "output_type": "execute_result"
    }
   ],
   "source": [
    "# Заполнение всех пропущенных значений нулями\n",
    "# В данном случае это некорректно, так как нулями заполняются в том числе категориальные колонки\n",
    "data_new_3 = data.fillna(0)\n",
    "data_new_3[data.isnull().any(axis=1)]"
   ]
  },
  {
   "cell_type": "markdown",
   "id": "cd6ceb35",
   "metadata": {},
   "source": [
    "## \"Внедрение значений\" - импьютация (imputation)\n",
    "### Обработка пропусков в числовых данных"
   ]
  },
  {
   "cell_type": "code",
   "execution_count": 12,
   "id": "67e13a69",
   "metadata": {},
   "outputs": [
    {
     "name": "stdout",
     "output_type": "stream",
     "text": [
      "Колонка mass (g). Тип данных float64. Количество пустых значений 32, 2.67%.\n",
      "Колонка year. Тип данных float64. Количество пустых значений 1, 0.08%.\n",
      "Колонка reclat. Тип данных float64. Количество пустых значений 15, 1.25%.\n",
      "Колонка reclong. Тип данных float64. Количество пустых значений 15, 1.25%.\n"
     ]
    }
   ],
   "source": [
    "# Выберем числовые колонки с пропущенными значениями\n",
    "# Цикл по колонкам датасета\n",
    "num_cols = []\n",
    "for col in data.columns:\n",
    "    # Количество пустых значений \n",
    "    temp_null_count = data[data[col].isnull()].shape[0]\n",
    "    dt = str(data[col].dtype)\n",
    "    if temp_null_count>0 and (dt=='float64' or dt=='int64'):\n",
    "        num_cols.append(col)\n",
    "        temp_perc = round((temp_null_count / total_count) * 100.0, 2)\n",
    "        print('Колонка {}. Тип данных {}. Количество пустых значений {}, {}%.'.format(col, dt, temp_null_count, temp_perc))"
   ]
  },
  {
   "cell_type": "code",
   "execution_count": 15,
   "id": "a811eddb",
   "metadata": {},
   "outputs": [
    {
     "data": {
      "text/html": [
       "<div>\n",
       "<style scoped>\n",
       "    .dataframe tbody tr th:only-of-type {\n",
       "        vertical-align: middle;\n",
       "    }\n",
       "\n",
       "    .dataframe tbody tr th {\n",
       "        vertical-align: top;\n",
       "    }\n",
       "\n",
       "    .dataframe thead th {\n",
       "        text-align: right;\n",
       "    }\n",
       "</style>\n",
       "<table border=\"1\" class=\"dataframe\">\n",
       "  <thead>\n",
       "    <tr style=\"text-align: right;\">\n",
       "      <th></th>\n",
       "      <th>mass (g)</th>\n",
       "      <th>year</th>\n",
       "      <th>reclat</th>\n",
       "      <th>reclong</th>\n",
       "    </tr>\n",
       "  </thead>\n",
       "  <tbody>\n",
       "    <tr>\n",
       "      <th>0</th>\n",
       "      <td>21.00</td>\n",
       "      <td>1880.0</td>\n",
       "      <td>50.77500</td>\n",
       "      <td>6.08333</td>\n",
       "    </tr>\n",
       "    <tr>\n",
       "      <th>1</th>\n",
       "      <td>720.00</td>\n",
       "      <td>1951.0</td>\n",
       "      <td>56.18333</td>\n",
       "      <td>10.23333</td>\n",
       "    </tr>\n",
       "    <tr>\n",
       "      <th>2</th>\n",
       "      <td>107000.00</td>\n",
       "      <td>1952.0</td>\n",
       "      <td>54.21667</td>\n",
       "      <td>-113.00000</td>\n",
       "    </tr>\n",
       "    <tr>\n",
       "      <th>3</th>\n",
       "      <td>1914.00</td>\n",
       "      <td>1976.0</td>\n",
       "      <td>16.88333</td>\n",
       "      <td>-99.90000</td>\n",
       "    </tr>\n",
       "    <tr>\n",
       "      <th>4</th>\n",
       "      <td>780.00</td>\n",
       "      <td>1902.0</td>\n",
       "      <td>-33.16667</td>\n",
       "      <td>-64.95000</td>\n",
       "    </tr>\n",
       "    <tr>\n",
       "      <th>...</th>\n",
       "      <td>...</td>\n",
       "      <td>...</td>\n",
       "      <td>...</td>\n",
       "      <td>...</td>\n",
       "    </tr>\n",
       "    <tr>\n",
       "      <th>1194</th>\n",
       "      <td>11450.00</td>\n",
       "      <td>1955.0</td>\n",
       "      <td>20.70000</td>\n",
       "      <td>52.83333</td>\n",
       "    </tr>\n",
       "    <tr>\n",
       "      <th>1195</th>\n",
       "      <td>30.47</td>\n",
       "      <td>1998.0</td>\n",
       "      <td>37.86667</td>\n",
       "      <td>-117.40000</td>\n",
       "    </tr>\n",
       "    <tr>\n",
       "      <th>1196</th>\n",
       "      <td>28.00</td>\n",
       "      <td>2011.0</td>\n",
       "      <td>32.30600</td>\n",
       "      <td>-108.90380</td>\n",
       "    </tr>\n",
       "    <tr>\n",
       "      <th>1197</th>\n",
       "      <td>1200000.00</td>\n",
       "      <td>1973.0</td>\n",
       "      <td>20.60000</td>\n",
       "      <td>44.88333</td>\n",
       "    </tr>\n",
       "    <tr>\n",
       "      <th>1198</th>\n",
       "      <td>1053.50</td>\n",
       "      <td>2003.0</td>\n",
       "      <td>NaN</td>\n",
       "      <td>NaN</td>\n",
       "    </tr>\n",
       "  </tbody>\n",
       "</table>\n",
       "<p>1199 rows × 4 columns</p>\n",
       "</div>"
      ],
      "text/plain": [
       "        mass (g)    year    reclat    reclong\n",
       "0          21.00  1880.0  50.77500    6.08333\n",
       "1         720.00  1951.0  56.18333   10.23333\n",
       "2      107000.00  1952.0  54.21667 -113.00000\n",
       "3        1914.00  1976.0  16.88333  -99.90000\n",
       "4         780.00  1902.0 -33.16667  -64.95000\n",
       "...          ...     ...       ...        ...\n",
       "1194    11450.00  1955.0  20.70000   52.83333\n",
       "1195       30.47  1998.0  37.86667 -117.40000\n",
       "1196       28.00  2011.0  32.30600 -108.90380\n",
       "1197  1200000.00  1973.0  20.60000   44.88333\n",
       "1198     1053.50  2003.0       NaN        NaN\n",
       "\n",
       "[1199 rows x 4 columns]"
      ]
     },
     "execution_count": 15,
     "metadata": {},
     "output_type": "execute_result"
    }
   ],
   "source": [
    "# Фильтр по колонкам с пропущенными значениями\n",
    "data_num = data[num_cols]\n",
    "data_num"
   ]
  },
  {
   "cell_type": "code",
   "execution_count": 16,
   "id": "d1b1142c",
   "metadata": {},
   "outputs": [
    {
     "data": {
      "image/png": "[encoded data removed]",
      "text/plain": [
       "<Figure size 640x480 with 1 Axes>"
      ]
     },
     "metadata": {},
     "output_type": "display_data"
    },
    {
     "data": {
      "image/png": "[encoded data removed]",
      "text/plain": [
       "<Figure size 640x480 with 1 Axes>"
      ]
     },
     "metadata": {},
     "output_type": "display_data"
    },
    {
     "data": {
      "image/png": "[encoded data removed]",
      "text/plain": [
       "<Figure size 640x480 with 1 Axes>"
      ]
     },
     "metadata": {},
     "output_type": "display_data"
    },
    {
     "data": {
      "image/png": "[encoded data removed]",
      "text/plain": [
       "<Figure size 640x480 with 1 Axes>"
      ]
     },
     "metadata": {},
     "output_type": "display_data"
    }
   ],
   "source": [
    "# Гистограмма по признакам\n",
    "for col in data_num:\n",
    "    plt.hist(data[col], 50)\n",
    "    plt.xlabel(col)\n",
    "    plt.show()"
   ]
  },
  {
   "cell_type": "code",
   "execution_count": 17,
   "id": "64f5b3d9",
   "metadata": {},
   "outputs": [
    {
     "data": {
      "text/html": [
       "<div>\n",
       "<style scoped>\n",
       "    .dataframe tbody tr th:only-of-type {\n",
       "        vertical-align: middle;\n",
       "    }\n",
       "\n",
       "    .dataframe tbody tr th {\n",
       "        vertical-align: top;\n",
       "    }\n",
       "\n",
       "    .dataframe thead th {\n",
       "        text-align: right;\n",
       "    }\n",
       "</style>\n",
       "<table border=\"1\" class=\"dataframe\">\n",
       "  <thead>\n",
       "    <tr style=\"text-align: right;\">\n",
       "      <th></th>\n",
       "      <th>reclat</th>\n",
       "    </tr>\n",
       "  </thead>\n",
       "  <tbody>\n",
       "    <tr>\n",
       "      <th>0</th>\n",
       "      <td>50.77500</td>\n",
       "    </tr>\n",
       "    <tr>\n",
       "      <th>1</th>\n",
       "      <td>56.18333</td>\n",
       "    </tr>\n",
       "    <tr>\n",
       "      <th>2</th>\n",
       "      <td>54.21667</td>\n",
       "    </tr>\n",
       "    <tr>\n",
       "      <th>3</th>\n",
       "      <td>16.88333</td>\n",
       "    </tr>\n",
       "    <tr>\n",
       "      <th>4</th>\n",
       "      <td>-33.16667</td>\n",
       "    </tr>\n",
       "  </tbody>\n",
       "</table>\n",
       "</div>"
      ],
      "text/plain": [
       "     reclat\n",
       "0  50.77500\n",
       "1  56.18333\n",
       "2  54.21667\n",
       "3  16.88333\n",
       "4 -33.16667"
      ]
     },
     "execution_count": 17,
     "metadata": {},
     "output_type": "execute_result"
    }
   ],
   "source": [
    "data_num_reclat = data_num[['reclat']]\n",
    "data_num_reclat.head()"
   ]
  },
  {
   "cell_type": "code",
   "execution_count": 18,
   "id": "a62280c3",
   "metadata": {},
   "outputs": [],
   "source": [
    "from sklearn.impute import SimpleImputer\n",
    "from sklearn.impute import MissingIndicator"
   ]
  },
  {
   "cell_type": "code",
   "execution_count": 19,
   "id": "2f7bc124",
   "metadata": {},
   "outputs": [
    {
     "data": {
      "text/plain": [
       "array([[False],\n",
       "       [False],\n",
       "       [False],\n",
       "       ...,\n",
       "       [False],\n",
       "       [False],\n",
       "       [ True]])"
      ]
     },
     "execution_count": 19,
     "metadata": {},
     "output_type": "execute_result"
    }
   ],
   "source": [
    "# Фильтр для проверки заполнения пустых значений\n",
    "indicator = MissingIndicator()\n",
    "mask_missing_values_only = indicator.fit_transform(data_num_reclat)\n",
    "mask_missing_values_only"
   ]
  },
  {
   "cell_type": "code",
   "execution_count": 20,
   "id": "8d6c9a24",
   "metadata": {},
   "outputs": [],
   "source": [
    "strategies=['mean', 'median', 'most_frequent']"
   ]
  },
  {
   "cell_type": "code",
   "execution_count": 21,
   "id": "03c8013b",
   "metadata": {},
   "outputs": [],
   "source": [
    "def test_num_impute(strategy_param):\n",
    "    imp_num = SimpleImputer(strategy=strategy_param)\n",
    "    data_num_imp = imp_num.fit_transform(data_num_reclat)\n",
    "    return data_num_imp[mask_missing_values_only]"
   ]
  },
  {
   "cell_type": "code",
   "execution_count": 22,
   "id": "b0788ba0",
   "metadata": {},
   "outputs": [
    {
     "data": {
      "text/plain": [
       "('mean',\n",
       " array([29.88208154, 29.88208154, 29.88208154, 29.88208154, 29.88208154,\n",
       "        29.88208154, 29.88208154, 29.88208154, 29.88208154, 29.88208154,\n",
       "        29.88208154, 29.88208154, 29.88208154, 29.88208154, 29.88208154]))"
      ]
     },
     "execution_count": 22,
     "metadata": {},
     "output_type": "execute_result"
    }
   ],
   "source": [
    "strategies[0], test_num_impute(strategies[0])"
   ]
  },
  {
   "cell_type": "code",
   "execution_count": 23,
   "id": "ec71048d",
   "metadata": {},
   "outputs": [
    {
     "data": {
      "text/plain": [
       "('median',\n",
       " array([35.541665, 35.541665, 35.541665, 35.541665, 35.541665, 35.541665,\n",
       "        35.541665, 35.541665, 35.541665, 35.541665, 35.541665, 35.541665,\n",
       "        35.541665, 35.541665, 35.541665]))"
      ]
     },
     "execution_count": 23,
     "metadata": {},
     "output_type": "execute_result"
    }
   ],
   "source": [
    "strategies[1], test_num_impute(strategies[1])"
   ]
  },
  {
   "cell_type": "code",
   "execution_count": 24,
   "id": "47a3ed75",
   "metadata": {},
   "outputs": [
    {
     "data": {
      "text/plain": [
       "('most_frequent',\n",
       " array([27.7, 27.7, 27.7, 27.7, 27.7, 27.7, 27.7, 27.7, 27.7, 27.7, 27.7,\n",
       "        27.7, 27.7, 27.7, 27.7]))"
      ]
     },
     "execution_count": 24,
     "metadata": {},
     "output_type": "execute_result"
    }
   ],
   "source": [
    "strategies[2], test_num_impute(strategies[2])"
   ]
  },
  {
   "cell_type": "code",
   "execution_count": 25,
   "id": "10da91dc",
   "metadata": {},
   "outputs": [],
   "source": [
    "# Более сложная функция, которая позволяет задавать колонку и вид импьютации\n",
    "def test_num_impute_col(dataset, column, strategy_param):\n",
    "    temp_data = dataset[[column]]\n",
    "    \n",
    "    indicator = MissingIndicator()\n",
    "    mask_missing_values_only = indicator.fit_transform(temp_data)\n",
    "    \n",
    "    imp_num = SimpleImputer(strategy=strategy_param)\n",
    "    data_num_imp = imp_num.fit_transform(temp_data)\n",
    "    \n",
    "    filled_data = data_num_imp[mask_missing_values_only]\n",
    "    \n",
    "    return column, strategy_param, filled_data.size, filled_data[0], filled_data[filled_data.size-1]"
   ]
  },
  {
   "cell_type": "code",
   "execution_count": 26,
   "id": "620bed91",
   "metadata": {},
   "outputs": [
    {
     "data": {
      "text/html": [
       "<div>\n",
       "<style scoped>\n",
       "    .dataframe tbody tr th:only-of-type {\n",
       "        vertical-align: middle;\n",
       "    }\n",
       "\n",
       "    .dataframe tbody tr th {\n",
       "        vertical-align: top;\n",
       "    }\n",
       "\n",
       "    .dataframe thead th {\n",
       "        text-align: right;\n",
       "    }\n",
       "</style>\n",
       "<table border=\"1\" class=\"dataframe\">\n",
       "  <thead>\n",
       "    <tr style=\"text-align: right;\">\n",
       "      <th></th>\n",
       "      <th>mass (g)</th>\n",
       "    </tr>\n",
       "  </thead>\n",
       "  <tbody>\n",
       "    <tr>\n",
       "      <th>count</th>\n",
       "      <td>1.167000e+03</td>\n",
       "    </tr>\n",
       "    <tr>\n",
       "      <th>mean</th>\n",
       "      <td>4.851961e+04</td>\n",
       "    </tr>\n",
       "    <tr>\n",
       "      <th>std</th>\n",
       "      <td>6.947328e+05</td>\n",
       "    </tr>\n",
       "    <tr>\n",
       "      <th>min</th>\n",
       "      <td>1.000000e-01</td>\n",
       "    </tr>\n",
       "    <tr>\n",
       "      <th>25%</th>\n",
       "      <td>6.125000e+02</td>\n",
       "    </tr>\n",
       "    <tr>\n",
       "      <th>50%</th>\n",
       "      <td>2.500000e+03</td>\n",
       "    </tr>\n",
       "    <tr>\n",
       "      <th>75%</th>\n",
       "      <td>1.050000e+04</td>\n",
       "    </tr>\n",
       "    <tr>\n",
       "      <th>max</th>\n",
       "      <td>2.300000e+07</td>\n",
       "    </tr>\n",
       "  </tbody>\n",
       "</table>\n",
       "</div>"
      ],
      "text/plain": [
       "           mass (g)\n",
       "count  1.167000e+03\n",
       "mean   4.851961e+04\n",
       "std    6.947328e+05\n",
       "min    1.000000e-01\n",
       "25%    6.125000e+02\n",
       "50%    2.500000e+03\n",
       "75%    1.050000e+04\n",
       "max    2.300000e+07"
      ]
     },
     "execution_count": 26,
     "metadata": {},
     "output_type": "execute_result"
    }
   ],
   "source": [
    "data[['mass (g)']].describe()"
   ]
  },
  {
   "cell_type": "code",
   "execution_count": 27,
   "id": "7657f7d7",
   "metadata": {},
   "outputs": [
    {
     "data": {
      "text/plain": [
       "('mass (g)', 'mean', 32, 48519.61272493573, 48519.61272493573)"
      ]
     },
     "execution_count": 27,
     "metadata": {},
     "output_type": "execute_result"
    }
   ],
   "source": [
    "test_num_impute_col(data, 'mass (g)', strategies[0])"
   ]
  },
  {
   "cell_type": "code",
   "execution_count": 28,
   "id": "98c49840",
   "metadata": {},
   "outputs": [
    {
     "data": {
      "text/plain": [
       "('mass (g)', 'median', 32, 2500.0, 2500.0)"
      ]
     },
     "execution_count": 28,
     "metadata": {},
     "output_type": "execute_result"
    }
   ],
   "source": [
    "test_num_impute_col(data, 'mass (g)', strategies[1])"
   ]
  },
  {
   "cell_type": "code",
   "execution_count": 29,
   "id": "7112161d",
   "metadata": {},
   "outputs": [
    {
     "data": {
      "text/plain": [
       "('mass (g)', 'most_frequent', 32, 1000.0, 1000.0)"
      ]
     },
     "execution_count": 29,
     "metadata": {},
     "output_type": "execute_result"
    }
   ],
   "source": [
    "test_num_impute_col(data, 'mass (g)', strategies[2])"
   ]
  },
  {
   "cell_type": "markdown",
   "id": "8cb18a41",
   "metadata": {},
   "source": [
    "### Обработка пропусков в категориальных данных "
   ]
  },
  {
   "cell_type": "code",
   "execution_count": 30,
   "id": "ada4b08f",
   "metadata": {},
   "outputs": [
    {
     "name": "stdout",
     "output_type": "stream",
     "text": [
      "Колонка recclass. Тип данных object. Количество пустых значений 14, 1.17%.\n",
      "Колонка GeoLocation. Тип данных object. Количество пустых значений 15, 1.25%.\n"
     ]
    }
   ],
   "source": [
    "# Выберем категориальные колонки с пропущенными значениями\n",
    "# Цикл по колонкам датасета\n",
    "cat_cols = []\n",
    "for col in data.columns:\n",
    "    # Количество пустых значений \n",
    "    temp_null_count = data[data[col].isnull()].shape[0]\n",
    "    dt = str(data[col].dtype)\n",
    "    if temp_null_count>0 and (dt=='object'):\n",
    "        cat_cols.append(col)\n",
    "        temp_perc = round((temp_null_count / total_count) * 100.0, 2)\n",
    "        print('Колонка {}. Тип данных {}. Количество пустых значений {}, {}%.'.format(col, dt, temp_null_count, temp_perc))"
   ]
  },
  {
   "cell_type": "code",
   "execution_count": 31,
   "id": "30466267",
   "metadata": {},
   "outputs": [
    {
     "data": {
      "text/html": [
       "<div>\n",
       "<style scoped>\n",
       "    .dataframe tbody tr th:only-of-type {\n",
       "        vertical-align: middle;\n",
       "    }\n",
       "\n",
       "    .dataframe tbody tr th {\n",
       "        vertical-align: top;\n",
       "    }\n",
       "\n",
       "    .dataframe thead th {\n",
       "        text-align: right;\n",
       "    }\n",
       "</style>\n",
       "<table border=\"1\" class=\"dataframe\">\n",
       "  <thead>\n",
       "    <tr style=\"text-align: right;\">\n",
       "      <th></th>\n",
       "      <th>recclass</th>\n",
       "    </tr>\n",
       "  </thead>\n",
       "  <tbody>\n",
       "    <tr>\n",
       "      <th>0</th>\n",
       "      <td>L5</td>\n",
       "    </tr>\n",
       "    <tr>\n",
       "      <th>1</th>\n",
       "      <td>H6</td>\n",
       "    </tr>\n",
       "    <tr>\n",
       "      <th>2</th>\n",
       "      <td>EH4</td>\n",
       "    </tr>\n",
       "    <tr>\n",
       "      <th>3</th>\n",
       "      <td>Acapulcoite</td>\n",
       "    </tr>\n",
       "    <tr>\n",
       "      <th>4</th>\n",
       "      <td>L6</td>\n",
       "    </tr>\n",
       "  </tbody>\n",
       "</table>\n",
       "</div>"
      ],
      "text/plain": [
       "      recclass\n",
       "0           L5\n",
       "1           H6\n",
       "2          EH4\n",
       "3  Acapulcoite\n",
       "4           L6"
      ]
     },
     "execution_count": 31,
     "metadata": {},
     "output_type": "execute_result"
    }
   ],
   "source": [
    "cat_temp_data = data[['recclass']]\n",
    "cat_temp_data.head()"
   ]
  },
  {
   "cell_type": "code",
   "execution_count": 32,
   "id": "e02db429",
   "metadata": {},
   "outputs": [
    {
     "data": {
      "text/plain": [
       "array(['L5', 'H6', 'EH4', 'Acapulcoite', 'L6', 'LL3-6', 'H5', 'L',\n",
       "       'Diogenite-pm', 'Unknown', nan, 'H4', 'H', 'Iron, IVA', 'CR2-an',\n",
       "       'LL5', 'CI1', 'L/LL4', 'Eucrite-mmict', 'CV3', 'Ureilite-an',\n",
       "       'Stone-uncl', 'L3', 'Angrite', 'LL6', 'Aubrite', 'Iron, IIAB',\n",
       "       'L4', 'Iron, IAB-sLL', 'Iron, ungrouped', 'CM2', 'OC',\n",
       "       'Mesosiderite-A1', 'LL4', 'C2-ung', 'LL3.8', 'Howardite',\n",
       "       'Eucrite-pmict', 'Diogenite', 'LL3.15', 'LL3.9', 'Iron, IAB-MG',\n",
       "       'H/L3.9', 'Iron?', 'Eucrite', 'H4-an', 'L/LL6', 'Iron, IIIAB',\n",
       "       'H/L4', 'H4-5', 'L3.7', 'LL3.4', 'Martian (chassignite)', 'EL6',\n",
       "       'H3.8', 'H3-5', 'H5-6', 'Mesosiderite', 'H5-7', 'L3-6', 'H4-6',\n",
       "       'Ureilite', 'Iron, IID', 'Mesosiderite-A3/4', 'CO3.3', 'H3',\n",
       "       'EH3/4-an', 'Iron, IIE', 'L/LL5', 'H3.7', 'CBa', 'H4/5', 'H3/4',\n",
       "       'H?', 'H3-6', 'L3.4', 'Iron, IAB-sHL', 'L3.7-6', 'EH7-an', 'Iron',\n",
       "       'CR2', 'CO3.2', 'K3', 'L5/6', 'CK4', 'Iron, IIE-an', 'L3.6',\n",
       "       'LL3.2', 'Pallasite', 'CO3.5', 'Lodranite', 'Mesosiderite-A3',\n",
       "       'L3-4', 'H5/6', 'Pallasite, PMG', 'Eucrite-cm', 'L5-6', 'CO3.6',\n",
       "       'Martian (nakhlite)', 'LL3.6', 'C3-ung', 'H3-4', 'CO3.4', 'EH3',\n",
       "       'Iron, IAB-ung', 'Winonaite', 'LL', 'Eucrite-br', 'Iron, IIF',\n",
       "       'R3.8-6', 'L4-6', 'EH5', 'LL3.00', 'H3.4', 'Martian (shergottite)',\n",
       "       'Achondrite-ung', 'LL3.3', 'C', 'H/L3.6', 'Iron, IIIAB-an', 'LL7',\n",
       "       'Mesosiderite-B2', 'LL4-6', 'CO3.7', 'L/LL6-an',\n",
       "       'Iron, IAB complex', 'Pallasite, PMG-an', 'H3.9/4',\n",
       "       'Iron, IIIE-an'], dtype=object)"
      ]
     },
     "execution_count": 32,
     "metadata": {},
     "output_type": "execute_result"
    }
   ],
   "source": [
    "cat_temp_data['recclass'].unique()"
   ]
  },
  {
   "cell_type": "code",
   "execution_count": 33,
   "id": "e635776d",
   "metadata": {},
   "outputs": [
    {
     "data": {
      "text/plain": [
       "(14, 1)"
      ]
     },
     "execution_count": 33,
     "metadata": {},
     "output_type": "execute_result"
    }
   ],
   "source": [
    "cat_temp_data[cat_temp_data['recclass'].isnull()].shape"
   ]
  },
  {
   "cell_type": "code",
   "execution_count": 34,
   "id": "95837f00",
   "metadata": {},
   "outputs": [
    {
     "data": {
      "text/plain": [
       "array([['L5'],\n",
       "       ['H6'],\n",
       "       ['EH4'],\n",
       "       ...,\n",
       "       ['L5'],\n",
       "       ['Iron, IIAB'],\n",
       "       ['H5']], dtype=object)"
      ]
     },
     "execution_count": 34,
     "metadata": {},
     "output_type": "execute_result"
    }
   ],
   "source": [
    "# Импьютация наиболее частыми значениями\n",
    "imp2 = SimpleImputer(missing_values=np.nan, strategy='most_frequent')\n",
    "data_imp2 = imp2.fit_transform(cat_temp_data)\n",
    "data_imp2"
   ]
  },
  {
   "cell_type": "code",
   "execution_count": 35,
   "id": "2c25a107",
   "metadata": {},
   "outputs": [
    {
     "data": {
      "text/plain": [
       "array(['Acapulcoite', 'Achondrite-ung', 'Angrite', 'Aubrite', 'C',\n",
       "       'C2-ung', 'C3-ung', 'CBa', 'CI1', 'CK4', 'CM2', 'CO3.2', 'CO3.3',\n",
       "       'CO3.4', 'CO3.5', 'CO3.6', 'CO3.7', 'CR2', 'CR2-an', 'CV3',\n",
       "       'Diogenite', 'Diogenite-pm', 'EH3', 'EH3/4-an', 'EH4', 'EH5',\n",
       "       'EH7-an', 'EL6', 'Eucrite', 'Eucrite-br', 'Eucrite-cm',\n",
       "       'Eucrite-mmict', 'Eucrite-pmict', 'H', 'H/L3.6', 'H/L3.9', 'H/L4',\n",
       "       'H3', 'H3-4', 'H3-5', 'H3-6', 'H3.4', 'H3.7', 'H3.8', 'H3.9/4',\n",
       "       'H3/4', 'H4', 'H4-5', 'H4-6', 'H4-an', 'H4/5', 'H5', 'H5-6',\n",
       "       'H5-7', 'H5/6', 'H6', 'H?', 'Howardite', 'Iron',\n",
       "       'Iron, IAB complex', 'Iron, IAB-MG', 'Iron, IAB-sHL',\n",
       "       'Iron, IAB-sLL', 'Iron, IAB-ung', 'Iron, IIAB', 'Iron, IID',\n",
       "       'Iron, IIE', 'Iron, IIE-an', 'Iron, IIF', 'Iron, IIIAB',\n",
       "       'Iron, IIIAB-an', 'Iron, IIIE-an', 'Iron, IVA', 'Iron, ungrouped',\n",
       "       'Iron?', 'K3', 'L', 'L/LL4', 'L/LL5', 'L/LL6', 'L/LL6-an', 'L3',\n",
       "       'L3-4', 'L3-6', 'L3.4', 'L3.6', 'L3.7', 'L3.7-6', 'L4', 'L4-6',\n",
       "       'L5', 'L5-6', 'L5/6', 'L6', 'LL', 'LL3-6', 'LL3.00', 'LL3.15',\n",
       "       'LL3.2', 'LL3.3', 'LL3.4', 'LL3.6', 'LL3.8', 'LL3.9', 'LL4',\n",
       "       'LL4-6', 'LL5', 'LL6', 'LL7', 'Lodranite', 'Martian (chassignite)',\n",
       "       'Martian (nakhlite)', 'Martian (shergottite)', 'Mesosiderite',\n",
       "       'Mesosiderite-A1', 'Mesosiderite-A3', 'Mesosiderite-A3/4',\n",
       "       'Mesosiderite-B2', 'OC', 'Pallasite', 'Pallasite, PMG',\n",
       "       'Pallasite, PMG-an', 'R3.8-6', 'Stone-uncl', 'Unknown', 'Ureilite',\n",
       "       'Ureilite-an', 'Winonaite'], dtype=object)"
      ]
     },
     "execution_count": 35,
     "metadata": {},
     "output_type": "execute_result"
    }
   ],
   "source": [
    "# Пустые значения отсутствуют\n",
    "np.unique(data_imp2)"
   ]
  },
  {
   "cell_type": "code",
   "execution_count": 36,
   "id": "3c21e2a3",
   "metadata": {},
   "outputs": [
    {
     "data": {
      "text/plain": [
       "array([['L5'],\n",
       "       ['H6'],\n",
       "       ['EH4'],\n",
       "       ...,\n",
       "       ['L5'],\n",
       "       ['Iron, IIAB'],\n",
       "       ['H5']], dtype=object)"
      ]
     },
     "execution_count": 36,
     "metadata": {},
     "output_type": "execute_result"
    }
   ],
   "source": [
    "# Импьютация константой\n",
    "imp3 = SimpleImputer(missing_values=np.nan, strategy='constant', fill_value='NA')\n",
    "data_imp3 = imp3.fit_transform(cat_temp_data)\n",
    "data_imp3"
   ]
  },
  {
   "cell_type": "code",
   "execution_count": 37,
   "id": "37b50314",
   "metadata": {},
   "outputs": [
    {
     "data": {
      "text/plain": [
       "array(['Acapulcoite', 'Achondrite-ung', 'Angrite', 'Aubrite', 'C',\n",
       "       'C2-ung', 'C3-ung', 'CBa', 'CI1', 'CK4', 'CM2', 'CO3.2', 'CO3.3',\n",
       "       'CO3.4', 'CO3.5', 'CO3.6', 'CO3.7', 'CR2', 'CR2-an', 'CV3',\n",
       "       'Diogenite', 'Diogenite-pm', 'EH3', 'EH3/4-an', 'EH4', 'EH5',\n",
       "       'EH7-an', 'EL6', 'Eucrite', 'Eucrite-br', 'Eucrite-cm',\n",
       "       'Eucrite-mmict', 'Eucrite-pmict', 'H', 'H/L3.6', 'H/L3.9', 'H/L4',\n",
       "       'H3', 'H3-4', 'H3-5', 'H3-6', 'H3.4', 'H3.7', 'H3.8', 'H3.9/4',\n",
       "       'H3/4', 'H4', 'H4-5', 'H4-6', 'H4-an', 'H4/5', 'H5', 'H5-6',\n",
       "       'H5-7', 'H5/6', 'H6', 'H?', 'Howardite', 'Iron',\n",
       "       'Iron, IAB complex', 'Iron, IAB-MG', 'Iron, IAB-sHL',\n",
       "       'Iron, IAB-sLL', 'Iron, IAB-ung', 'Iron, IIAB', 'Iron, IID',\n",
       "       'Iron, IIE', 'Iron, IIE-an', 'Iron, IIF', 'Iron, IIIAB',\n",
       "       'Iron, IIIAB-an', 'Iron, IIIE-an', 'Iron, IVA', 'Iron, ungrouped',\n",
       "       'Iron?', 'K3', 'L', 'L/LL4', 'L/LL5', 'L/LL6', 'L/LL6-an', 'L3',\n",
       "       'L3-4', 'L3-6', 'L3.4', 'L3.6', 'L3.7', 'L3.7-6', 'L4', 'L4-6',\n",
       "       'L5', 'L5-6', 'L5/6', 'L6', 'LL', 'LL3-6', 'LL3.00', 'LL3.15',\n",
       "       'LL3.2', 'LL3.3', 'LL3.4', 'LL3.6', 'LL3.8', 'LL3.9', 'LL4',\n",
       "       'LL4-6', 'LL5', 'LL6', 'LL7', 'Lodranite', 'Martian (chassignite)',\n",
       "       'Martian (nakhlite)', 'Martian (shergottite)', 'Mesosiderite',\n",
       "       'Mesosiderite-A1', 'Mesosiderite-A3', 'Mesosiderite-A3/4',\n",
       "       'Mesosiderite-B2', 'NA', 'OC', 'Pallasite', 'Pallasite, PMG',\n",
       "       'Pallasite, PMG-an', 'R3.8-6', 'Stone-uncl', 'Unknown', 'Ureilite',\n",
       "       'Ureilite-an', 'Winonaite'], dtype=object)"
      ]
     },
     "execution_count": 37,
     "metadata": {},
     "output_type": "execute_result"
    }
   ],
   "source": [
    "np.unique(data_imp3)"
   ]
  },
  {
   "cell_type": "code",
   "execution_count": 38,
   "id": "bcbd2e76",
   "metadata": {},
   "outputs": [
    {
     "data": {
      "text/plain": [
       "14"
      ]
     },
     "execution_count": 38,
     "metadata": {},
     "output_type": "execute_result"
    }
   ],
   "source": [
    "data_imp3[data_imp3=='NA'].size"
   ]
  },
  {
   "cell_type": "markdown",
   "id": "20c74ead",
   "metadata": {},
   "source": [
    "## Преобразование категориальных признаков в числовые"
   ]
  },
  {
   "cell_type": "code",
   "execution_count": 39,
   "id": "ce544b29",
   "metadata": {},
   "outputs": [
    {
     "data": {
      "text/html": [
       "<div>\n",
       "<style scoped>\n",
       "    .dataframe tbody tr th:only-of-type {\n",
       "        vertical-align: middle;\n",
       "    }\n",
       "\n",
       "    .dataframe tbody tr th {\n",
       "        vertical-align: top;\n",
       "    }\n",
       "\n",
       "    .dataframe thead th {\n",
       "        text-align: right;\n",
       "    }\n",
       "</style>\n",
       "<table border=\"1\" class=\"dataframe\">\n",
       "  <thead>\n",
       "    <tr style=\"text-align: right;\">\n",
       "      <th></th>\n",
       "      <th>c1</th>\n",
       "    </tr>\n",
       "  </thead>\n",
       "  <tbody>\n",
       "    <tr>\n",
       "      <th>0</th>\n",
       "      <td>L5</td>\n",
       "    </tr>\n",
       "    <tr>\n",
       "      <th>1</th>\n",
       "      <td>H6</td>\n",
       "    </tr>\n",
       "    <tr>\n",
       "      <th>2</th>\n",
       "      <td>EH4</td>\n",
       "    </tr>\n",
       "    <tr>\n",
       "      <th>3</th>\n",
       "      <td>Acapulcoite</td>\n",
       "    </tr>\n",
       "    <tr>\n",
       "      <th>4</th>\n",
       "      <td>L6</td>\n",
       "    </tr>\n",
       "    <tr>\n",
       "      <th>...</th>\n",
       "      <td>...</td>\n",
       "    </tr>\n",
       "    <tr>\n",
       "      <th>1194</th>\n",
       "      <td>H4</td>\n",
       "    </tr>\n",
       "    <tr>\n",
       "      <th>1195</th>\n",
       "      <td>H6</td>\n",
       "    </tr>\n",
       "    <tr>\n",
       "      <th>1196</th>\n",
       "      <td>L5</td>\n",
       "    </tr>\n",
       "    <tr>\n",
       "      <th>1197</th>\n",
       "      <td>Iron, IIAB</td>\n",
       "    </tr>\n",
       "    <tr>\n",
       "      <th>1198</th>\n",
       "      <td>H5</td>\n",
       "    </tr>\n",
       "  </tbody>\n",
       "</table>\n",
       "<p>1199 rows × 1 columns</p>\n",
       "</div>"
      ],
      "text/plain": [
       "               c1\n",
       "0              L5\n",
       "1              H6\n",
       "2             EH4\n",
       "3     Acapulcoite\n",
       "4              L6\n",
       "...           ...\n",
       "1194           H4\n",
       "1195           H6\n",
       "1196           L5\n",
       "1197   Iron, IIAB\n",
       "1198           H5\n",
       "\n",
       "[1199 rows x 1 columns]"
      ]
     },
     "execution_count": 39,
     "metadata": {},
     "output_type": "execute_result"
    }
   ],
   "source": [
    "cat_enc = pd.DataFrame({'c1':data_imp2.T[0]})\n",
    "cat_enc"
   ]
  },
  {
   "cell_type": "markdown",
   "id": "41034eb7",
   "metadata": {},
   "source": [
    "### Кодирование категорий целочисленными значениями (label encoding)\n",
    "В этом случае уникальные значения категориального признака кодируются целыми числами.\n",
    "\n",
    "В scikit-learn для такого кодирования используется два класса :\n",
    "\n",
    "LabelEncoder - который ориентирован на применение к одному признаку. Этот класс прежде всего предназначен для кодирования целевого признака, но может быть также использован для последовательного кодирования отдельных нецелевых признаков.\n",
    "OrdinalEncoder - который ориентирован на применение к матрице объект-признак, то есть для кодирования матрицы нецелевых признаков.\n",
    "#### Использование LabelEncoder"
   ]
  },
  {
   "cell_type": "code",
   "execution_count": 40,
   "id": "35926fec",
   "metadata": {},
   "outputs": [],
   "source": [
    "from sklearn.preprocessing import LabelEncoder"
   ]
  },
  {
   "cell_type": "code",
   "execution_count": 41,
   "id": "7d0655dc",
   "metadata": {},
   "outputs": [
    {
     "data": {
      "text/plain": [
       "array(['L5', 'H6', 'EH4', 'Acapulcoite', 'L6', 'LL3-6', 'H5', 'L',\n",
       "       'Diogenite-pm', 'Unknown', 'H4', 'H', 'Iron, IVA', 'CR2-an', 'LL5',\n",
       "       'CI1', 'L/LL4', 'Eucrite-mmict', 'CV3', 'Ureilite-an',\n",
       "       'Stone-uncl', 'L3', 'Angrite', 'LL6', 'Aubrite', 'Iron, IIAB',\n",
       "       'L4', 'Iron, IAB-sLL', 'Iron, ungrouped', 'CM2', 'OC',\n",
       "       'Mesosiderite-A1', 'LL4', 'C2-ung', 'LL3.8', 'Howardite',\n",
       "       'Eucrite-pmict', 'Diogenite', 'LL3.15', 'LL3.9', 'Iron, IAB-MG',\n",
       "       'H/L3.9', 'Iron?', 'Eucrite', 'H4-an', 'L/LL6', 'Iron, IIIAB',\n",
       "       'H/L4', 'H4-5', 'L3.7', 'LL3.4', 'Martian (chassignite)', 'EL6',\n",
       "       'H3.8', 'H3-5', 'H5-6', 'Mesosiderite', 'H5-7', 'L3-6', 'H4-6',\n",
       "       'Ureilite', 'Iron, IID', 'Mesosiderite-A3/4', 'CO3.3', 'H3',\n",
       "       'EH3/4-an', 'Iron, IIE', 'L/LL5', 'H3.7', 'CBa', 'H4/5', 'H3/4',\n",
       "       'H?', 'H3-6', 'L3.4', 'Iron, IAB-sHL', 'L3.7-6', 'EH7-an', 'Iron',\n",
       "       'CR2', 'CO3.2', 'K3', 'L5/6', 'CK4', 'Iron, IIE-an', 'L3.6',\n",
       "       'LL3.2', 'Pallasite', 'CO3.5', 'Lodranite', 'Mesosiderite-A3',\n",
       "       'L3-4', 'H5/6', 'Pallasite, PMG', 'Eucrite-cm', 'L5-6', 'CO3.6',\n",
       "       'Martian (nakhlite)', 'LL3.6', 'C3-ung', 'H3-4', 'CO3.4', 'EH3',\n",
       "       'Iron, IAB-ung', 'Winonaite', 'LL', 'Eucrite-br', 'Iron, IIF',\n",
       "       'R3.8-6', 'L4-6', 'EH5', 'LL3.00', 'H3.4', 'Martian (shergottite)',\n",
       "       'Achondrite-ung', 'LL3.3', 'C', 'H/L3.6', 'Iron, IIIAB-an', 'LL7',\n",
       "       'Mesosiderite-B2', 'LL4-6', 'CO3.7', 'L/LL6-an',\n",
       "       'Iron, IAB complex', 'Pallasite, PMG-an', 'H3.9/4',\n",
       "       'Iron, IIIE-an'], dtype=object)"
      ]
     },
     "execution_count": 41,
     "metadata": {},
     "output_type": "execute_result"
    }
   ],
   "source": [
    "cat_enc['c1'].unique()"
   ]
  },
  {
   "cell_type": "code",
   "execution_count": 42,
   "id": "d5668bfa",
   "metadata": {},
   "outputs": [],
   "source": [
    "le = LabelEncoder()\n",
    "cat_enc_le = le.fit_transform(cat_enc['c1'])"
   ]
  },
  {
   "cell_type": "code",
   "execution_count": 43,
   "id": "fc5a2042",
   "metadata": {},
   "outputs": [
    {
     "data": {
      "text/plain": [
       "array(['Acapulcoite', 'Achondrite-ung', 'Angrite', 'Aubrite', 'C',\n",
       "       'C2-ung', 'C3-ung', 'CBa', 'CI1', 'CK4', 'CM2', 'CO3.2', 'CO3.3',\n",
       "       'CO3.4', 'CO3.5', 'CO3.6', 'CO3.7', 'CR2', 'CR2-an', 'CV3',\n",
       "       'Diogenite', 'Diogenite-pm', 'EH3', 'EH3/4-an', 'EH4', 'EH5',\n",
       "       'EH7-an', 'EL6', 'Eucrite', 'Eucrite-br', 'Eucrite-cm',\n",
       "       'Eucrite-mmict', 'Eucrite-pmict', 'H', 'H/L3.6', 'H/L3.9', 'H/L4',\n",
       "       'H3', 'H3-4', 'H3-5', 'H3-6', 'H3.4', 'H3.7', 'H3.8', 'H3.9/4',\n",
       "       'H3/4', 'H4', 'H4-5', 'H4-6', 'H4-an', 'H4/5', 'H5', 'H5-6',\n",
       "       'H5-7', 'H5/6', 'H6', 'H?', 'Howardite', 'Iron',\n",
       "       'Iron, IAB complex', 'Iron, IAB-MG', 'Iron, IAB-sHL',\n",
       "       'Iron, IAB-sLL', 'Iron, IAB-ung', 'Iron, IIAB', 'Iron, IID',\n",
       "       'Iron, IIE', 'Iron, IIE-an', 'Iron, IIF', 'Iron, IIIAB',\n",
       "       'Iron, IIIAB-an', 'Iron, IIIE-an', 'Iron, IVA', 'Iron, ungrouped',\n",
       "       'Iron?', 'K3', 'L', 'L/LL4', 'L/LL5', 'L/LL6', 'L/LL6-an', 'L3',\n",
       "       'L3-4', 'L3-6', 'L3.4', 'L3.6', 'L3.7', 'L3.7-6', 'L4', 'L4-6',\n",
       "       'L5', 'L5-6', 'L5/6', 'L6', 'LL', 'LL3-6', 'LL3.00', 'LL3.15',\n",
       "       'LL3.2', 'LL3.3', 'LL3.4', 'LL3.6', 'LL3.8', 'LL3.9', 'LL4',\n",
       "       'LL4-6', 'LL5', 'LL6', 'LL7', 'Lodranite', 'Martian (chassignite)',\n",
       "       'Martian (nakhlite)', 'Martian (shergottite)', 'Mesosiderite',\n",
       "       'Mesosiderite-A1', 'Mesosiderite-A3', 'Mesosiderite-A3/4',\n",
       "       'Mesosiderite-B2', 'OC', 'Pallasite', 'Pallasite, PMG',\n",
       "       'Pallasite, PMG-an', 'R3.8-6', 'Stone-uncl', 'Unknown', 'Ureilite',\n",
       "       'Ureilite-an', 'Winonaite'], dtype=object)"
      ]
     },
     "execution_count": 43,
     "metadata": {},
     "output_type": "execute_result"
    }
   ],
   "source": [
    "# Наименования категорий в соответствии с порядковыми номерами\n",
    "\n",
    "# Свойство называется classes, потому что предполагается что мы решаем \n",
    "# задачу классификации и каждое значение категории соответствует \n",
    "# какому-либо классу целевого признака\n",
    "\n",
    "le.classes_"
   ]
  },
  {
   "cell_type": "code",
   "execution_count": 44,
   "id": "0981a2b9",
   "metadata": {},
   "outputs": [
    {
     "data": {
      "text/plain": [
       "array([90, 55, 24, ..., 90, 64, 51])"
      ]
     },
     "execution_count": 44,
     "metadata": {},
     "output_type": "execute_result"
    }
   ],
   "source": [
    "cat_enc_le"
   ]
  },
  {
   "cell_type": "code",
   "execution_count": 45,
   "id": "1d5a5f2f",
   "metadata": {},
   "outputs": [
    {
     "data": {
      "text/plain": [
       "array([  0,   1,   2,   3,   4,   5,   6,   7,   8,   9,  10,  11,  12,\n",
       "        13,  14,  15,  16,  17,  18,  19,  20,  21,  22,  23,  24,  25,\n",
       "        26,  27,  28,  29,  30,  31,  32,  33,  34,  35,  36,  37,  38,\n",
       "        39,  40,  41,  42,  43,  44,  45,  46,  47,  48,  49,  50,  51,\n",
       "        52,  53,  54,  55,  56,  57,  58,  59,  60,  61,  62,  63,  64,\n",
       "        65,  66,  67,  68,  69,  70,  71,  72,  73,  74,  75,  76,  77,\n",
       "        78,  79,  80,  81,  82,  83,  84,  85,  86,  87,  88,  89,  90,\n",
       "        91,  92,  93,  94,  95,  96,  97,  98,  99, 100, 101, 102, 103,\n",
       "       104, 105, 106, 107, 108, 109, 110, 111, 112, 113, 114, 115, 116,\n",
       "       117, 118, 119, 120, 121, 122, 123, 124, 125, 126, 127])"
      ]
     },
     "execution_count": 45,
     "metadata": {},
     "output_type": "execute_result"
    }
   ],
   "source": [
    "np.unique(cat_enc_le)"
   ]
  },
  {
   "cell_type": "code",
   "execution_count": 46,
   "id": "64f9ebb0",
   "metadata": {},
   "outputs": [
    {
     "data": {
      "text/plain": [
       "array(['Acapulcoite', 'Achondrite-ung', 'Angrite', 'Aubrite'],\n",
       "      dtype=object)"
      ]
     },
     "execution_count": 46,
     "metadata": {},
     "output_type": "execute_result"
    }
   ],
   "source": [
    "# В этом примере видно, что перед кодированием \n",
    "# уникальные значения признака сортируются в лексикографиеском порядке\n",
    "le.inverse_transform([0, 1, 2, 3])"
   ]
  },
  {
   "cell_type": "markdown",
   "id": "fe938315",
   "metadata": {},
   "source": [
    "#### Использование OrdinalEncoder"
   ]
  },
  {
   "cell_type": "code",
   "execution_count": 47,
   "id": "5f99a55f",
   "metadata": {},
   "outputs": [],
   "source": [
    "from sklearn.preprocessing import OrdinalEncoder"
   ]
  },
  {
   "cell_type": "code",
   "execution_count": 48,
   "id": "d3a2f771",
   "metadata": {},
   "outputs": [
    {
     "data": {
      "text/html": [
       "<div>\n",
       "<style scoped>\n",
       "    .dataframe tbody tr th:only-of-type {\n",
       "        vertical-align: middle;\n",
       "    }\n",
       "\n",
       "    .dataframe tbody tr th {\n",
       "        vertical-align: top;\n",
       "    }\n",
       "\n",
       "    .dataframe thead th {\n",
       "        text-align: right;\n",
       "    }\n",
       "</style>\n",
       "<table border=\"1\" class=\"dataframe\">\n",
       "  <thead>\n",
       "    <tr style=\"text-align: right;\">\n",
       "      <th></th>\n",
       "      <th>recclass</th>\n",
       "    </tr>\n",
       "  </thead>\n",
       "  <tbody>\n",
       "    <tr>\n",
       "      <th>0</th>\n",
       "      <td>L5</td>\n",
       "    </tr>\n",
       "    <tr>\n",
       "      <th>1</th>\n",
       "      <td>H6</td>\n",
       "    </tr>\n",
       "    <tr>\n",
       "      <th>2</th>\n",
       "      <td>EH4</td>\n",
       "    </tr>\n",
       "    <tr>\n",
       "      <th>3</th>\n",
       "      <td>Acapulcoite</td>\n",
       "    </tr>\n",
       "    <tr>\n",
       "      <th>4</th>\n",
       "      <td>L6</td>\n",
       "    </tr>\n",
       "  </tbody>\n",
       "</table>\n",
       "</div>"
      ],
      "text/plain": [
       "      recclass\n",
       "0           L5\n",
       "1           H6\n",
       "2          EH4\n",
       "3  Acapulcoite\n",
       "4           L6"
      ]
     },
     "execution_count": 48,
     "metadata": {},
     "output_type": "execute_result"
    }
   ],
   "source": [
    "data_oe = data[['recclass']]\n",
    "data_oe.head()"
   ]
  },
  {
   "cell_type": "code",
   "execution_count": 49,
   "id": "9436f915",
   "metadata": {},
   "outputs": [
    {
     "data": {
      "text/plain": [
       "array([['L5'],\n",
       "       ['H6'],\n",
       "       ['EH4'],\n",
       "       ...,\n",
       "       ['L5'],\n",
       "       ['Iron, IIAB'],\n",
       "       ['H5']], dtype=object)"
      ]
     },
     "execution_count": 49,
     "metadata": {},
     "output_type": "execute_result"
    }
   ],
   "source": [
    "imp4 = SimpleImputer(missing_values=np.nan, strategy='constant', fill_value='NA')\n",
    "data_oe_filled = imp4.fit_transform(data_oe)\n",
    "data_oe_filled"
   ]
  },
  {
   "cell_type": "code",
   "execution_count": 50,
   "id": "c5ed68ab",
   "metadata": {},
   "outputs": [
    {
     "data": {
      "text/plain": [
       "array([[90.],\n",
       "       [55.],\n",
       "       [24.],\n",
       "       ...,\n",
       "       [90.],\n",
       "       [64.],\n",
       "       [51.]])"
      ]
     },
     "execution_count": 50,
     "metadata": {},
     "output_type": "execute_result"
    }
   ],
   "source": [
    "oe = OrdinalEncoder()\n",
    "cat_enc_oe = oe.fit_transform(data_oe_filled)\n",
    "cat_enc_oe"
   ]
  },
  {
   "cell_type": "code",
   "execution_count": 51,
   "id": "646275b5",
   "metadata": {},
   "outputs": [
    {
     "data": {
      "text/plain": [
       "array([  0.,   1.,   2.,   3.,   4.,   5.,   6.,   7.,   8.,   9.,  10.,\n",
       "        11.,  12.,  13.,  14.,  15.,  16.,  17.,  18.,  19.,  20.,  21.,\n",
       "        22.,  23.,  24.,  25.,  26.,  27.,  28.,  29.,  30.,  31.,  32.,\n",
       "        33.,  34.,  35.,  36.,  37.,  38.,  39.,  40.,  41.,  42.,  43.,\n",
       "        44.,  45.,  46.,  47.,  48.,  49.,  50.,  51.,  52.,  53.,  54.,\n",
       "        55.,  56.,  57.,  58.,  59.,  60.,  61.,  62.,  63.,  64.,  65.,\n",
       "        66.,  67.,  68.,  69.,  70.,  71.,  72.,  73.,  74.,  75.,  76.,\n",
       "        77.,  78.,  79.,  80.,  81.,  82.,  83.,  84.,  85.,  86.,  87.,\n",
       "        88.,  89.,  90.,  91.,  92.,  93.,  94.,  95.,  96.,  97.,  98.,\n",
       "        99., 100., 101., 102., 103., 104., 105., 106., 107., 108., 109.,\n",
       "       110., 111., 112., 113., 114., 115., 116., 117., 118., 119., 120.,\n",
       "       121., 122., 123., 124., 125., 126., 127., 128.])"
      ]
     },
     "execution_count": 51,
     "metadata": {},
     "output_type": "execute_result"
    }
   ],
   "source": [
    "# Уникальные значения признака\n",
    "np.unique(cat_enc_oe[:, 0])"
   ]
  },
  {
   "cell_type": "code",
   "execution_count": 52,
   "id": "ad4c25b6",
   "metadata": {},
   "outputs": [
    {
     "data": {
      "text/plain": [
       "[array(['Acapulcoite', 'Achondrite-ung', 'Angrite', 'Aubrite', 'C',\n",
       "        'C2-ung', 'C3-ung', 'CBa', 'CI1', 'CK4', 'CM2', 'CO3.2', 'CO3.3',\n",
       "        'CO3.4', 'CO3.5', 'CO3.6', 'CO3.7', 'CR2', 'CR2-an', 'CV3',\n",
       "        'Diogenite', 'Diogenite-pm', 'EH3', 'EH3/4-an', 'EH4', 'EH5',\n",
       "        'EH7-an', 'EL6', 'Eucrite', 'Eucrite-br', 'Eucrite-cm',\n",
       "        'Eucrite-mmict', 'Eucrite-pmict', 'H', 'H/L3.6', 'H/L3.9', 'H/L4',\n",
       "        'H3', 'H3-4', 'H3-5', 'H3-6', 'H3.4', 'H3.7', 'H3.8', 'H3.9/4',\n",
       "        'H3/4', 'H4', 'H4-5', 'H4-6', 'H4-an', 'H4/5', 'H5', 'H5-6',\n",
       "        'H5-7', 'H5/6', 'H6', 'H?', 'Howardite', 'Iron',\n",
       "        'Iron, IAB complex', 'Iron, IAB-MG', 'Iron, IAB-sHL',\n",
       "        'Iron, IAB-sLL', 'Iron, IAB-ung', 'Iron, IIAB', 'Iron, IID',\n",
       "        'Iron, IIE', 'Iron, IIE-an', 'Iron, IIF', 'Iron, IIIAB',\n",
       "        'Iron, IIIAB-an', 'Iron, IIIE-an', 'Iron, IVA', 'Iron, ungrouped',\n",
       "        'Iron?', 'K3', 'L', 'L/LL4', 'L/LL5', 'L/LL6', 'L/LL6-an', 'L3',\n",
       "        'L3-4', 'L3-6', 'L3.4', 'L3.6', 'L3.7', 'L3.7-6', 'L4', 'L4-6',\n",
       "        'L5', 'L5-6', 'L5/6', 'L6', 'LL', 'LL3-6', 'LL3.00', 'LL3.15',\n",
       "        'LL3.2', 'LL3.3', 'LL3.4', 'LL3.6', 'LL3.8', 'LL3.9', 'LL4',\n",
       "        'LL4-6', 'LL5', 'LL6', 'LL7', 'Lodranite', 'Martian (chassignite)',\n",
       "        'Martian (nakhlite)', 'Martian (shergottite)', 'Mesosiderite',\n",
       "        'Mesosiderite-A1', 'Mesosiderite-A3', 'Mesosiderite-A3/4',\n",
       "        'Mesosiderite-B2', 'NA', 'OC', 'Pallasite', 'Pallasite, PMG',\n",
       "        'Pallasite, PMG-an', 'R3.8-6', 'Stone-uncl', 'Unknown', 'Ureilite',\n",
       "        'Ureilite-an', 'Winonaite'], dtype=object)]"
      ]
     },
     "execution_count": 52,
     "metadata": {},
     "output_type": "execute_result"
    }
   ],
   "source": [
    "# Наименования категорий в соответствии с порядковыми номерами\n",
    "oe.categories_"
   ]
  },
  {
   "cell_type": "code",
   "execution_count": 53,
   "id": "b0628b43",
   "metadata": {},
   "outputs": [
    {
     "data": {
      "text/plain": [
       "array([['L5'],\n",
       "       ['H6'],\n",
       "       ['EH4'],\n",
       "       ...,\n",
       "       ['L5'],\n",
       "       ['Iron, IIAB'],\n",
       "       ['H5']], dtype=object)"
      ]
     },
     "execution_count": 53,
     "metadata": {},
     "output_type": "execute_result"
    }
   ],
   "source": [
    "# Обратное преобразование\n",
    "oe.inverse_transform(cat_enc_oe)"
   ]
  },
  {
   "cell_type": "markdown",
   "id": "17d9ba82",
   "metadata": {},
   "source": [
    "### Кодирование категорий наборами бинарных значений - one-hot encoding\n",
    "В этом случае каждое уникальное значение признака становится новым отдельным признаком."
   ]
  },
  {
   "cell_type": "code",
   "execution_count": 54,
   "id": "194e15b2",
   "metadata": {},
   "outputs": [],
   "source": [
    "from sklearn.preprocessing import OneHotEncoder"
   ]
  },
  {
   "cell_type": "code",
   "execution_count": 55,
   "id": "07adb935",
   "metadata": {},
   "outputs": [],
   "source": [
    "ohe = OneHotEncoder()\n",
    "cat_enc_ohe = ohe.fit_transform(cat_enc[['c1']])"
   ]
  },
  {
   "cell_type": "code",
   "execution_count": 56,
   "id": "ac328299",
   "metadata": {},
   "outputs": [
    {
     "data": {
      "text/plain": [
       "(1199, 1)"
      ]
     },
     "execution_count": 56,
     "metadata": {},
     "output_type": "execute_result"
    }
   ],
   "source": [
    "cat_enc.shape"
   ]
  },
  {
   "cell_type": "code",
   "execution_count": 57,
   "id": "cbb68a0b",
   "metadata": {},
   "outputs": [
    {
     "data": {
      "text/plain": [
       "(1199, 128)"
      ]
     },
     "execution_count": 57,
     "metadata": {},
     "output_type": "execute_result"
    }
   ],
   "source": [
    "cat_enc_ohe.shape"
   ]
  },
  {
   "cell_type": "code",
   "execution_count": 58,
   "id": "4200f5a0",
   "metadata": {},
   "outputs": [
    {
     "data": {
      "text/plain": [
       "<1199x128 sparse matrix of type '<class 'numpy.float64'>'\n",
       "\twith 1199 stored elements in Compressed Sparse Row format>"
      ]
     },
     "execution_count": 58,
     "metadata": {},
     "output_type": "execute_result"
    }
   ],
   "source": [
    "cat_enc_ohe"
   ]
  },
  {
   "cell_type": "code",
   "execution_count": 66,
   "id": "d152fbd0",
   "metadata": {},
   "outputs": [
    {
     "data": {
      "text/plain": [
       "matrix([[0., 0., 0., 0., 0., 0., 0., 0., 0., 0., 0., 0., 0., 0., 0., 0.,\n",
       "         0., 0., 0., 0., 0., 0., 0., 0., 0., 0., 0., 0., 0., 0., 0., 0.,\n",
       "         0., 0., 0., 0., 0., 0., 0., 0., 0., 0., 0., 0., 0., 0., 0., 0.,\n",
       "         0., 0., 0., 0., 0., 0., 0., 0., 0., 0., 0., 0., 0., 0., 0., 0.,\n",
       "         0., 0., 0., 0., 0., 0., 0., 0., 0., 0., 0., 0., 0., 0., 0., 0.,\n",
       "         0., 0., 0., 0., 0., 0., 0., 0., 0., 0., 1., 0., 0., 0., 0., 0.,\n",
       "         0., 0., 0., 0., 0., 0., 0., 0., 0., 0., 0., 0., 0., 0., 0., 0.,\n",
       "         0., 0., 0., 0., 0., 0., 0., 0., 0., 0., 0., 0., 0., 0., 0., 0.],\n",
       "        [0., 0., 0., 0., 0., 0., 0., 0., 0., 0., 0., 0., 0., 0., 0., 0.,\n",
       "         0., 0., 0., 0., 0., 0., 0., 0., 0., 0., 0., 0., 0., 0., 0., 0.,\n",
       "         0., 0., 0., 0., 0., 0., 0., 0., 0., 0., 0., 0., 0., 0., 0., 0.,\n",
       "         0., 0., 0., 0., 0., 0., 0., 1., 0., 0., 0., 0., 0., 0., 0., 0.,\n",
       "         0., 0., 0., 0., 0., 0., 0., 0., 0., 0., 0., 0., 0., 0., 0., 0.,\n",
       "         0., 0., 0., 0., 0., 0., 0., 0., 0., 0., 0., 0., 0., 0., 0., 0.,\n",
       "         0., 0., 0., 0., 0., 0., 0., 0., 0., 0., 0., 0., 0., 0., 0., 0.,\n",
       "         0., 0., 0., 0., 0., 0., 0., 0., 0., 0., 0., 0., 0., 0., 0., 0.],\n",
       "        [0., 0., 0., 0., 0., 0., 0., 0., 0., 0., 0., 0., 0., 0., 0., 0.,\n",
       "         0., 0., 0., 0., 0., 0., 0., 0., 1., 0., 0., 0., 0., 0., 0., 0.,\n",
       "         0., 0., 0., 0., 0., 0., 0., 0., 0., 0., 0., 0., 0., 0., 0., 0.,\n",
       "         0., 0., 0., 0., 0., 0., 0., 0., 0., 0., 0., 0., 0., 0., 0., 0.,\n",
       "         0., 0., 0., 0., 0., 0., 0., 0., 0., 0., 0., 0., 0., 0., 0., 0.,\n",
       "         0., 0., 0., 0., 0., 0., 0., 0., 0., 0., 0., 0., 0., 0., 0., 0.,\n",
       "         0., 0., 0., 0., 0., 0., 0., 0., 0., 0., 0., 0., 0., 0., 0., 0.,\n",
       "         0., 0., 0., 0., 0., 0., 0., 0., 0., 0., 0., 0., 0., 0., 0., 0.]])"
      ]
     },
     "execution_count": 66,
     "metadata": {},
     "output_type": "execute_result"
    }
   ],
   "source": [
    "cat_enc_ohe.todense()[0:3, 0:128]"
   ]
  },
  {
   "cell_type": "code",
   "execution_count": 67,
   "id": "407faa6b",
   "metadata": {},
   "outputs": [
    {
     "data": {
      "text/html": [
       "<div>\n",
       "<style scoped>\n",
       "    .dataframe tbody tr th:only-of-type {\n",
       "        vertical-align: middle;\n",
       "    }\n",
       "\n",
       "    .dataframe tbody tr th {\n",
       "        vertical-align: top;\n",
       "    }\n",
       "\n",
       "    .dataframe thead th {\n",
       "        text-align: right;\n",
       "    }\n",
       "</style>\n",
       "<table border=\"1\" class=\"dataframe\">\n",
       "  <thead>\n",
       "    <tr style=\"text-align: right;\">\n",
       "      <th></th>\n",
       "      <th>c1</th>\n",
       "    </tr>\n",
       "  </thead>\n",
       "  <tbody>\n",
       "    <tr>\n",
       "      <th>0</th>\n",
       "      <td>L5</td>\n",
       "    </tr>\n",
       "    <tr>\n",
       "      <th>1</th>\n",
       "      <td>H6</td>\n",
       "    </tr>\n",
       "    <tr>\n",
       "      <th>2</th>\n",
       "      <td>EH4</td>\n",
       "    </tr>\n",
       "    <tr>\n",
       "      <th>3</th>\n",
       "      <td>Acapulcoite</td>\n",
       "    </tr>\n",
       "    <tr>\n",
       "      <th>4</th>\n",
       "      <td>L6</td>\n",
       "    </tr>\n",
       "    <tr>\n",
       "      <th>5</th>\n",
       "      <td>EH4</td>\n",
       "    </tr>\n",
       "    <tr>\n",
       "      <th>6</th>\n",
       "      <td>LL3-6</td>\n",
       "    </tr>\n",
       "    <tr>\n",
       "      <th>7</th>\n",
       "      <td>H5</td>\n",
       "    </tr>\n",
       "    <tr>\n",
       "      <th>8</th>\n",
       "      <td>L6</td>\n",
       "    </tr>\n",
       "    <tr>\n",
       "      <th>9</th>\n",
       "      <td>L</td>\n",
       "    </tr>\n",
       "  </tbody>\n",
       "</table>\n",
       "</div>"
      ],
      "text/plain": [
       "            c1\n",
       "0           L5\n",
       "1           H6\n",
       "2          EH4\n",
       "3  Acapulcoite\n",
       "4           L6\n",
       "5          EH4\n",
       "6        LL3-6\n",
       "7           H5\n",
       "8           L6\n",
       "9            L"
      ]
     },
     "execution_count": 67,
     "metadata": {},
     "output_type": "execute_result"
    }
   ],
   "source": [
    "cat_enc.head(10)"
   ]
  },
  {
   "cell_type": "markdown",
   "id": "24b945e5",
   "metadata": {},
   "source": [
    "### Pandas get_dummies - быстрый вариант one-hot кодирования"
   ]
  },
  {
   "cell_type": "code",
   "execution_count": 68,
   "id": "0037faa7",
   "metadata": {},
   "outputs": [
    {
     "data": {
      "text/html": [
       "<div>\n",
       "<style scoped>\n",
       "    .dataframe tbody tr th:only-of-type {\n",
       "        vertical-align: middle;\n",
       "    }\n",
       "\n",
       "    .dataframe tbody tr th {\n",
       "        vertical-align: top;\n",
       "    }\n",
       "\n",
       "    .dataframe thead th {\n",
       "        text-align: right;\n",
       "    }\n",
       "</style>\n",
       "<table border=\"1\" class=\"dataframe\">\n",
       "  <thead>\n",
       "    <tr style=\"text-align: right;\">\n",
       "      <th></th>\n",
       "      <th>c1_Acapulcoite</th>\n",
       "      <th>c1_Achondrite-ung</th>\n",
       "      <th>c1_Angrite</th>\n",
       "      <th>c1_Aubrite</th>\n",
       "      <th>c1_C</th>\n",
       "      <th>c1_C2-ung</th>\n",
       "      <th>c1_C3-ung</th>\n",
       "      <th>c1_CBa</th>\n",
       "      <th>c1_CI1</th>\n",
       "      <th>c1_CK4</th>\n",
       "      <th>...</th>\n",
       "      <th>c1_OC</th>\n",
       "      <th>c1_Pallasite</th>\n",
       "      <th>c1_Pallasite, PMG</th>\n",
       "      <th>c1_Pallasite, PMG-an</th>\n",
       "      <th>c1_R3.8-6</th>\n",
       "      <th>c1_Stone-uncl</th>\n",
       "      <th>c1_Unknown</th>\n",
       "      <th>c1_Ureilite</th>\n",
       "      <th>c1_Ureilite-an</th>\n",
       "      <th>c1_Winonaite</th>\n",
       "    </tr>\n",
       "  </thead>\n",
       "  <tbody>\n",
       "    <tr>\n",
       "      <th>0</th>\n",
       "      <td>0</td>\n",
       "      <td>0</td>\n",
       "      <td>0</td>\n",
       "      <td>0</td>\n",
       "      <td>0</td>\n",
       "      <td>0</td>\n",
       "      <td>0</td>\n",
       "      <td>0</td>\n",
       "      <td>0</td>\n",
       "      <td>0</td>\n",
       "      <td>...</td>\n",
       "      <td>0</td>\n",
       "      <td>0</td>\n",
       "      <td>0</td>\n",
       "      <td>0</td>\n",
       "      <td>0</td>\n",
       "      <td>0</td>\n",
       "      <td>0</td>\n",
       "      <td>0</td>\n",
       "      <td>0</td>\n",
       "      <td>0</td>\n",
       "    </tr>\n",
       "    <tr>\n",
       "      <th>1</th>\n",
       "      <td>0</td>\n",
       "      <td>0</td>\n",
       "      <td>0</td>\n",
       "      <td>0</td>\n",
       "      <td>0</td>\n",
       "      <td>0</td>\n",
       "      <td>0</td>\n",
       "      <td>0</td>\n",
       "      <td>0</td>\n",
       "      <td>0</td>\n",
       "      <td>...</td>\n",
       "      <td>0</td>\n",
       "      <td>0</td>\n",
       "      <td>0</td>\n",
       "      <td>0</td>\n",
       "      <td>0</td>\n",
       "      <td>0</td>\n",
       "      <td>0</td>\n",
       "      <td>0</td>\n",
       "      <td>0</td>\n",
       "      <td>0</td>\n",
       "    </tr>\n",
       "    <tr>\n",
       "      <th>2</th>\n",
       "      <td>0</td>\n",
       "      <td>0</td>\n",
       "      <td>0</td>\n",
       "      <td>0</td>\n",
       "      <td>0</td>\n",
       "      <td>0</td>\n",
       "      <td>0</td>\n",
       "      <td>0</td>\n",
       "      <td>0</td>\n",
       "      <td>0</td>\n",
       "      <td>...</td>\n",
       "      <td>0</td>\n",
       "      <td>0</td>\n",
       "      <td>0</td>\n",
       "      <td>0</td>\n",
       "      <td>0</td>\n",
       "      <td>0</td>\n",
       "      <td>0</td>\n",
       "      <td>0</td>\n",
       "      <td>0</td>\n",
       "      <td>0</td>\n",
       "    </tr>\n",
       "    <tr>\n",
       "      <th>3</th>\n",
       "      <td>1</td>\n",
       "      <td>0</td>\n",
       "      <td>0</td>\n",
       "      <td>0</td>\n",
       "      <td>0</td>\n",
       "      <td>0</td>\n",
       "      <td>0</td>\n",
       "      <td>0</td>\n",
       "      <td>0</td>\n",
       "      <td>0</td>\n",
       "      <td>...</td>\n",
       "      <td>0</td>\n",
       "      <td>0</td>\n",
       "      <td>0</td>\n",
       "      <td>0</td>\n",
       "      <td>0</td>\n",
       "      <td>0</td>\n",
       "      <td>0</td>\n",
       "      <td>0</td>\n",
       "      <td>0</td>\n",
       "      <td>0</td>\n",
       "    </tr>\n",
       "    <tr>\n",
       "      <th>4</th>\n",
       "      <td>0</td>\n",
       "      <td>0</td>\n",
       "      <td>0</td>\n",
       "      <td>0</td>\n",
       "      <td>0</td>\n",
       "      <td>0</td>\n",
       "      <td>0</td>\n",
       "      <td>0</td>\n",
       "      <td>0</td>\n",
       "      <td>0</td>\n",
       "      <td>...</td>\n",
       "      <td>0</td>\n",
       "      <td>0</td>\n",
       "      <td>0</td>\n",
       "      <td>0</td>\n",
       "      <td>0</td>\n",
       "      <td>0</td>\n",
       "      <td>0</td>\n",
       "      <td>0</td>\n",
       "      <td>0</td>\n",
       "      <td>0</td>\n",
       "    </tr>\n",
       "  </tbody>\n",
       "</table>\n",
       "<p>5 rows × 128 columns</p>\n",
       "</div>"
      ],
      "text/plain": [
       "   c1_Acapulcoite  c1_Achondrite-ung  c1_Angrite  c1_Aubrite  c1_C  c1_C2-ung  \\\n",
       "0               0                  0           0           0     0          0   \n",
       "1               0                  0           0           0     0          0   \n",
       "2               0                  0           0           0     0          0   \n",
       "3               1                  0           0           0     0          0   \n",
       "4               0                  0           0           0     0          0   \n",
       "\n",
       "   c1_C3-ung  c1_CBa  c1_CI1  c1_CK4  ...  c1_OC  c1_Pallasite  \\\n",
       "0          0       0       0       0  ...      0             0   \n",
       "1          0       0       0       0  ...      0             0   \n",
       "2          0       0       0       0  ...      0             0   \n",
       "3          0       0       0       0  ...      0             0   \n",
       "4          0       0       0       0  ...      0             0   \n",
       "\n",
       "   c1_Pallasite, PMG  c1_Pallasite, PMG-an  c1_R3.8-6  c1_Stone-uncl  \\\n",
       "0                  0                     0          0              0   \n",
       "1                  0                     0          0              0   \n",
       "2                  0                     0          0              0   \n",
       "3                  0                     0          0              0   \n",
       "4                  0                     0          0              0   \n",
       "\n",
       "   c1_Unknown  c1_Ureilite  c1_Ureilite-an  c1_Winonaite  \n",
       "0           0            0               0             0  \n",
       "1           0            0               0             0  \n",
       "2           0            0               0             0  \n",
       "3           0            0               0             0  \n",
       "4           0            0               0             0  \n",
       "\n",
       "[5 rows x 128 columns]"
      ]
     },
     "execution_count": 68,
     "metadata": {},
     "output_type": "execute_result"
    }
   ],
   "source": [
    "pd.get_dummies(cat_enc).head()"
   ]
  },
  {
   "cell_type": "code",
   "execution_count": 69,
   "id": "f7a03158",
   "metadata": {},
   "outputs": [
    {
     "data": {
      "text/html": [
       "<div>\n",
       "<style scoped>\n",
       "    .dataframe tbody tr th:only-of-type {\n",
       "        vertical-align: middle;\n",
       "    }\n",
       "\n",
       "    .dataframe tbody tr th {\n",
       "        vertical-align: top;\n",
       "    }\n",
       "\n",
       "    .dataframe thead th {\n",
       "        text-align: right;\n",
       "    }\n",
       "</style>\n",
       "<table border=\"1\" class=\"dataframe\">\n",
       "  <thead>\n",
       "    <tr style=\"text-align: right;\">\n",
       "      <th></th>\n",
       "      <th>recclass_Acapulcoite</th>\n",
       "      <th>recclass_Achondrite-ung</th>\n",
       "      <th>recclass_Angrite</th>\n",
       "      <th>recclass_Aubrite</th>\n",
       "      <th>recclass_C</th>\n",
       "      <th>recclass_C2-ung</th>\n",
       "      <th>recclass_C3-ung</th>\n",
       "      <th>recclass_CBa</th>\n",
       "      <th>recclass_CI1</th>\n",
       "      <th>recclass_CK4</th>\n",
       "      <th>...</th>\n",
       "      <th>recclass_Pallasite</th>\n",
       "      <th>recclass_Pallasite, PMG</th>\n",
       "      <th>recclass_Pallasite, PMG-an</th>\n",
       "      <th>recclass_R3.8-6</th>\n",
       "      <th>recclass_Stone-uncl</th>\n",
       "      <th>recclass_Unknown</th>\n",
       "      <th>recclass_Ureilite</th>\n",
       "      <th>recclass_Ureilite-an</th>\n",
       "      <th>recclass_Winonaite</th>\n",
       "      <th>recclass_nan</th>\n",
       "    </tr>\n",
       "  </thead>\n",
       "  <tbody>\n",
       "    <tr>\n",
       "      <th>0</th>\n",
       "      <td>0</td>\n",
       "      <td>0</td>\n",
       "      <td>0</td>\n",
       "      <td>0</td>\n",
       "      <td>0</td>\n",
       "      <td>0</td>\n",
       "      <td>0</td>\n",
       "      <td>0</td>\n",
       "      <td>0</td>\n",
       "      <td>0</td>\n",
       "      <td>...</td>\n",
       "      <td>0</td>\n",
       "      <td>0</td>\n",
       "      <td>0</td>\n",
       "      <td>0</td>\n",
       "      <td>0</td>\n",
       "      <td>0</td>\n",
       "      <td>0</td>\n",
       "      <td>0</td>\n",
       "      <td>0</td>\n",
       "      <td>0</td>\n",
       "    </tr>\n",
       "    <tr>\n",
       "      <th>1</th>\n",
       "      <td>0</td>\n",
       "      <td>0</td>\n",
       "      <td>0</td>\n",
       "      <td>0</td>\n",
       "      <td>0</td>\n",
       "      <td>0</td>\n",
       "      <td>0</td>\n",
       "      <td>0</td>\n",
       "      <td>0</td>\n",
       "      <td>0</td>\n",
       "      <td>...</td>\n",
       "      <td>0</td>\n",
       "      <td>0</td>\n",
       "      <td>0</td>\n",
       "      <td>0</td>\n",
       "      <td>0</td>\n",
       "      <td>0</td>\n",
       "      <td>0</td>\n",
       "      <td>0</td>\n",
       "      <td>0</td>\n",
       "      <td>0</td>\n",
       "    </tr>\n",
       "    <tr>\n",
       "      <th>2</th>\n",
       "      <td>0</td>\n",
       "      <td>0</td>\n",
       "      <td>0</td>\n",
       "      <td>0</td>\n",
       "      <td>0</td>\n",
       "      <td>0</td>\n",
       "      <td>0</td>\n",
       "      <td>0</td>\n",
       "      <td>0</td>\n",
       "      <td>0</td>\n",
       "      <td>...</td>\n",
       "      <td>0</td>\n",
       "      <td>0</td>\n",
       "      <td>0</td>\n",
       "      <td>0</td>\n",
       "      <td>0</td>\n",
       "      <td>0</td>\n",
       "      <td>0</td>\n",
       "      <td>0</td>\n",
       "      <td>0</td>\n",
       "      <td>0</td>\n",
       "    </tr>\n",
       "    <tr>\n",
       "      <th>3</th>\n",
       "      <td>1</td>\n",
       "      <td>0</td>\n",
       "      <td>0</td>\n",
       "      <td>0</td>\n",
       "      <td>0</td>\n",
       "      <td>0</td>\n",
       "      <td>0</td>\n",
       "      <td>0</td>\n",
       "      <td>0</td>\n",
       "      <td>0</td>\n",
       "      <td>...</td>\n",
       "      <td>0</td>\n",
       "      <td>0</td>\n",
       "      <td>0</td>\n",
       "      <td>0</td>\n",
       "      <td>0</td>\n",
       "      <td>0</td>\n",
       "      <td>0</td>\n",
       "      <td>0</td>\n",
       "      <td>0</td>\n",
       "      <td>0</td>\n",
       "    </tr>\n",
       "    <tr>\n",
       "      <th>4</th>\n",
       "      <td>0</td>\n",
       "      <td>0</td>\n",
       "      <td>0</td>\n",
       "      <td>0</td>\n",
       "      <td>0</td>\n",
       "      <td>0</td>\n",
       "      <td>0</td>\n",
       "      <td>0</td>\n",
       "      <td>0</td>\n",
       "      <td>0</td>\n",
       "      <td>...</td>\n",
       "      <td>0</td>\n",
       "      <td>0</td>\n",
       "      <td>0</td>\n",
       "      <td>0</td>\n",
       "      <td>0</td>\n",
       "      <td>0</td>\n",
       "      <td>0</td>\n",
       "      <td>0</td>\n",
       "      <td>0</td>\n",
       "      <td>0</td>\n",
       "    </tr>\n",
       "  </tbody>\n",
       "</table>\n",
       "<p>5 rows × 129 columns</p>\n",
       "</div>"
      ],
      "text/plain": [
       "   recclass_Acapulcoite  recclass_Achondrite-ung  recclass_Angrite  \\\n",
       "0                     0                        0                 0   \n",
       "1                     0                        0                 0   \n",
       "2                     0                        0                 0   \n",
       "3                     1                        0                 0   \n",
       "4                     0                        0                 0   \n",
       "\n",
       "   recclass_Aubrite  recclass_C  recclass_C2-ung  recclass_C3-ung  \\\n",
       "0                 0           0                0                0   \n",
       "1                 0           0                0                0   \n",
       "2                 0           0                0                0   \n",
       "3                 0           0                0                0   \n",
       "4                 0           0                0                0   \n",
       "\n",
       "   recclass_CBa  recclass_CI1  recclass_CK4  ...  recclass_Pallasite  \\\n",
       "0             0             0             0  ...                   0   \n",
       "1             0             0             0  ...                   0   \n",
       "2             0             0             0  ...                   0   \n",
       "3             0             0             0  ...                   0   \n",
       "4             0             0             0  ...                   0   \n",
       "\n",
       "   recclass_Pallasite, PMG  recclass_Pallasite, PMG-an  recclass_R3.8-6  \\\n",
       "0                        0                           0                0   \n",
       "1                        0                           0                0   \n",
       "2                        0                           0                0   \n",
       "3                        0                           0                0   \n",
       "4                        0                           0                0   \n",
       "\n",
       "   recclass_Stone-uncl  recclass_Unknown  recclass_Ureilite  \\\n",
       "0                    0                 0                  0   \n",
       "1                    0                 0                  0   \n",
       "2                    0                 0                  0   \n",
       "3                    0                 0                  0   \n",
       "4                    0                 0                  0   \n",
       "\n",
       "   recclass_Ureilite-an  recclass_Winonaite  recclass_nan  \n",
       "0                     0                   0             0  \n",
       "1                     0                   0             0  \n",
       "2                     0                   0             0  \n",
       "3                     0                   0             0  \n",
       "4                     0                   0             0  \n",
       "\n",
       "[5 rows x 129 columns]"
      ]
     },
     "execution_count": 69,
     "metadata": {},
     "output_type": "execute_result"
    }
   ],
   "source": [
    "pd.get_dummies(cat_temp_data, dummy_na=True).head()"
   ]
  },
  {
   "cell_type": "markdown",
   "id": "4e3bba0d",
   "metadata": {},
   "source": [
    "## Масштабирование данных"
   ]
  },
  {
   "cell_type": "code",
   "execution_count": 70,
   "id": "f48786f6",
   "metadata": {},
   "outputs": [],
   "source": [
    "from sklearn.preprocessing import MinMaxScaler, StandardScaler, Normalizer"
   ]
  },
  {
   "cell_type": "markdown",
   "id": "1aba881b",
   "metadata": {},
   "source": [
    "### MinMax масштабирование"
   ]
  },
  {
   "cell_type": "code",
   "execution_count": 71,
   "id": "79904488",
   "metadata": {},
   "outputs": [],
   "source": [
    "sc1 = MinMaxScaler()\n",
    "sc1_data = sc1.fit_transform(data[['reclong']])"
   ]
  },
  {
   "cell_type": "code",
   "execution_count": 72,
   "id": "0e983ee1",
   "metadata": {},
   "outputs": [
    {
     "data": {
      "image/png": "[encoded data removed]",
      "text/plain": [
       "<Figure size 640x480 with 1 Axes>"
      ]
     },
     "metadata": {},
     "output_type": "display_data"
    }
   ],
   "source": [
    "plt.hist(data['reclong'], 50)\n",
    "plt.show()"
   ]
  },
  {
   "cell_type": "code",
   "execution_count": 73,
   "id": "77db152f",
   "metadata": {},
   "outputs": [
    {
     "data": {
      "image/png": "[encoded data removed]",
      "text/plain": [
       "<Figure size 640x480 with 1 Axes>"
      ]
     },
     "metadata": {},
     "output_type": "display_data"
    }
   ],
   "source": [
    "plt.hist(sc1_data, 50)\n",
    "plt.show()"
   ]
  },
  {
   "cell_type": "markdown",
   "id": "4d6ddd70",
   "metadata": {},
   "source": [
    "### Масштабирование данных на основе Z-оценки - StandardScaler"
   ]
  },
  {
   "cell_type": "code",
   "execution_count": 74,
   "id": "94997d57",
   "metadata": {},
   "outputs": [],
   "source": [
    "sc2 = StandardScaler()\n",
    "sc2_data = sc2.fit_transform(data[['reclong']])"
   ]
  },
  {
   "cell_type": "code",
   "execution_count": 75,
   "id": "d466917a",
   "metadata": {},
   "outputs": [
    {
     "data": {
      "image/png": "[encoded data removed]",
      "text/plain": [
       "<Figure size 640x480 with 1 Axes>"
      ]
     },
     "metadata": {},
     "output_type": "display_data"
    }
   ],
   "source": [
    "plt.hist(sc2_data, 50)\n",
    "plt.show()"
   ]
  },
  {
   "cell_type": "code",
   "execution_count": null,
   "id": "cc47b34e",
   "metadata": {},
   "outputs": [],
   "source": []
  }
 ],
 "metadata": {
  "kernelspec": {
   "display_name": "Python 3 (ipykernel)",
   "language": "python",
   "name": "python3"
  },
  "language_info": {
   "codemirror_mode": {
    "name": "ipython",
    "version": 3
   },
   "file_extension": ".py",
   "mimetype": "text/x-python",
   "name": "python",
   "nbconvert_exporter": "python",
   "pygments_lexer": "ipython3",
   "version": "3.9.7"
  }
 },
 "nbformat": 4,
 "nbformat_minor": 5
}
